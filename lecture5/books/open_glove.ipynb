{
 "cells": [
  {
   "cell_type": "markdown",
   "metadata": {},
   "source": [
    "# GloVe: Global Vectors for Word Representation\n",
    "## Example of usage in Python\n",
    "url: https://nlp.stanford.edu/projects/glove/"
   ]
  },
  {
   "cell_type": "markdown",
   "metadata": {},
   "source": [
    "## Open GloVe text file and import to NumPy"
   ]
  },
  {
   "cell_type": "code",
   "execution_count": 1,
   "metadata": {},
   "outputs": [
    {
     "name": "stdout",
     "output_type": "stream",
     "text": [
      "Loaded 399946 vectors\n"
     ]
    }
   ],
   "source": [
    "import numpy as np\n",
    "import codecs\n",
    "glove_vectors = 'myglove.6B.50d.txt'\n",
    "filecp = codecs.open(glove_vectors, encoding = 'utf-8')\n",
    "glove = np.loadtxt(filecp, dtype='str', comments=None)\n",
    "\n",
    "# Extract the vectors and words\n",
    "vectors = glove[:, 1:].astype('float')\n",
    "words = glove[:, 0]\n",
    "\n",
    "# Create lookup of words to vectors\n",
    "word_lookup = {word: vector for word, vector in zip(words, vectors)}\n",
    "\n",
    "# New matrix to hold word embeddings\n",
    "#embedding_matrix = np.zeros((num_words, vectors.shape[1]))\n",
    "print(\"Loaded\",len(word_lookup.keys()),'vectors')"
   ]
  },
  {
   "cell_type": "markdown",
   "metadata": {},
   "source": [
    "## Check contents"
   ]
  },
  {
   "cell_type": "code",
   "execution_count": 2,
   "metadata": {},
   "outputs": [
    {
     "name": "stdout",
     "output_type": "stream",
     "text": [
      "[-1.0443e+00  4.9202e-01 -7.5978e-01 -3.9224e-01  8.1217e-01 -3.9287e-02\n",
      "  1.6706e-02 -6.8629e-01 -7.8359e-02 -1.3214e+00 -1.5354e-01  2.0438e-01\n",
      " -4.6503e-01  1.2145e+00 -1.8217e-01  2.7451e-01 -2.4086e-01  7.1145e-01\n",
      "  3.2470e-01 -7.1320e-01  6.6721e-01  7.1307e-01 -1.0394e-01 -3.8439e-01\n",
      " -2.0260e-01 -1.4419e+00  4.2644e-01  5.9436e-01 -1.3615e+00  1.3784e-03\n",
      "  1.8734e+00 -1.1334e-01 -8.8115e-01 -2.1715e-01 -5.6606e-01  1.4152e-01\n",
      "  2.7673e-01  9.9962e-01  1.0567e+00 -2.9428e-01 -3.1390e-01  1.2729e-01\n",
      " -5.4363e-01  3.9652e-01 -3.2527e-01  3.0536e-01  1.5128e-01 -1.0889e+00\n",
      " -2.0867e-01 -5.2605e-02]\n",
      "(50,)\n"
     ]
    }
   ],
   "source": [
    "print(word_lookup['chair'])\n",
    "print(word_lookup['chair'].shape)"
   ]
  },
  {
   "cell_type": "markdown",
   "metadata": {},
   "source": [
    "## Define functions that compare vectors using Euclidean distance or cosine between vectors"
   ]
  },
  {
   "cell_type": "code",
   "execution_count": 3,
   "metadata": {},
   "outputs": [],
   "source": [
    "from scipy import spatial\n",
    "def find_closest_embeddings_euc(embedding):\n",
    "    return sorted(word_lookup.keys(), \n",
    "                  key=lambda word: spatial.distance.euclidean(word_lookup[word], word_lookup[embedding]))\n",
    "\n",
    "def find_closest_embeddings_cos(embedding):\n",
    "    return sorted(word_lookup.keys(), \n",
    "                  key=lambda word: spatial.distance.cosine(word_lookup[word], word_lookup[embedding]))\n"
   ]
  },
  {
   "cell_type": "markdown",
   "metadata": {},
   "source": [
    "## Use the function to fing closest words to the given word"
   ]
  },
  {
   "cell_type": "code",
   "execution_count": 4,
   "metadata": {},
   "outputs": [
    {
     "name": "stdout",
     "output_type": "stream",
     "text": [
      "Euclidean ['eye', 'eyes', 'heart', 'chest', 'ear', 'nose', 'touch', 'seen', 'throat', 'blood']\n",
      "Cosine ['eye', 'eyes', 'chest', 'heart', 'ear', 'nose', 'skin', 'blood', 'throat', 'mouth']\n"
     ]
    }
   ],
   "source": [
    "u = word_lookup['eye']\n",
    "v = word_lookup['eyes']\n",
    "\n",
    "print(\"Euclidean\",find_closest_embeddings_euc('eye')[:10])\n",
    "print(\"Cosine\",find_closest_embeddings_cos('eye')[:10])"
   ]
  },
  {
   "cell_type": "markdown",
   "metadata": {},
   "source": [
    "## Use PCA to map vectors into 2D space and show the plot"
   ]
  },
  {
   "cell_type": "code",
   "execution_count": 5,
   "metadata": {},
   "outputs": [
    {
     "name": "stdout",
     "output_type": "stream",
     "text": [
      "(9, 2)\n"
     ]
    },
    {
     "data": {
      "image/png": "[encoded data removed]",
      "text/plain": [
       "<Figure size 432x288 with 1 Axes>"
      ]
     },
     "metadata": {
      "needs_background": "light"
     },
     "output_type": "display_data"
    }
   ],
   "source": [
    "from sklearn.decomposition import PCA\n",
    "import matplotlib.pyplot as plt\n",
    "\n",
    "words = ['cat','eye','dog','ear','lion','face','cheetah','eyes','coyote']\n",
    "vectors = []\n",
    "for w in words:\n",
    "    vectors.append(word_lookup[w])\n",
    "vectors = np.array(vectors)\n",
    "pca = PCA(n_components=2)\n",
    "pca.fit(vectors)\n",
    "vectors2D = pca.transform(vectors)\n",
    "print(vectors2D.shape)\n",
    "for i,w in enumerate(words):\n",
    "    plt.scatter(vectors2D[i,0],vectors2D[i,1])\n",
    "    plt.annotate(w,(vectors2D[i,0],vectors2D[i,1]))"
   ]
  }
 ],
 "metadata": {
  "kernelspec": {
   "display_name": "Python 3",
   "language": "python",
   "name": "python3"
  },
  "language_info": {
   "codemirror_mode": {
    "name": "ipython",
    "version": 3
   },
   "file_extension": ".py",
   "mimetype": "text/x-python",
   "name": "python",
   "nbconvert_exporter": "python",
   "pygments_lexer": "ipython3",
   "version": "3.8.5"
  }
 },
 "nbformat": 4,
 "nbformat_minor": 4
}
