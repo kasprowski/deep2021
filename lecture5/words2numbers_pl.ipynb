{
 "cells": [
  {
   "cell_type": "markdown",
   "metadata": {},
   "source": [
    "# Model transforming words into a number\n",
    "- input: sequence of letters\n",
    "- output: number \n",
    "\n",
    "\n",
    "Examples: \n",
    "- input: sequence 'sto' output: 100\n",
    "- input: sequence 'dwieście czternaście' output: 214\n"
   ]
  },
  {
   "cell_type": "code",
   "execution_count": 1,
   "metadata": {},
   "outputs": [],
   "source": [
    "from tensorflow.keras.layers import Dense\n",
    "from tensorflow.keras.models import Sequential\n",
    "from tensorflow.keras.layers import LSTM\n",
    "import numpy as np\n",
    "from kwotaslownie import lslownie"
   ]
  },
  {
   "cell_type": "markdown",
   "metadata": {},
   "source": [
    "## Model"
   ]
  },
  {
   "cell_type": "code",
   "execution_count": 2,
   "metadata": {},
   "outputs": [
    {
     "name": "stdout",
     "output_type": "stream",
     "text": [
      "Model: \"sequential\"\n",
      "_________________________________________________________________\n",
      "Layer (type)                 Output Shape              Param #   \n",
      "=================================================================\n",
      "lstm (LSTM)                  (None, None, 128)         66560     \n",
      "_________________________________________________________________\n",
      "lstm_1 (LSTM)                (None, 128)               131584    \n",
      "_________________________________________________________________\n",
      "dense (Dense)                (None, 1)                 129       \n",
      "=================================================================\n",
      "Total params: 198,273\n",
      "Trainable params: 198,273\n",
      "Non-trainable params: 0\n",
      "_________________________________________________________________\n"
     ]
    }
   ],
   "source": [
    "model = Sequential()\n",
    "model.add(LSTM(128,input_shape=(None,1),return_sequences=True)) # sequences of singlen numbers\n",
    "model.add(LSTM(128))\n",
    "model.add(Dense(1))\n",
    "\n",
    "model.compile(loss='mean_squared_error', optimizer=\"adam\",metrics=['mae','mse'])\n",
    "num_epochs = 0\n",
    "model.summary()"
   ]
  },
  {
   "cell_type": "markdown",
   "metadata": {},
   "source": [
    "## Dataset creation"
   ]
  },
  {
   "cell_type": "markdown",
   "metadata": {},
   "source": [
    "### Helper methods"
   ]
  },
  {
   "cell_type": "code",
   "execution_count": 3,
   "metadata": {},
   "outputs": [],
   "source": [
    "# helper method, converts sequence of numbers to text\n",
    "def to_text(sample):\n",
    "    return ''.join([idx2char[int(x)] for x in sample])\n",
    "# helper method, converts text to sequence of numbers\n",
    "def to_number(words):\n",
    "    return np.array([char2idx[char] for char in words])"
   ]
  },
  {
   "cell_type": "markdown",
   "metadata": {},
   "source": [
    "### Dataset - **samples** and **labels**"
   ]
  },
  {
   "cell_type": "code",
   "execution_count": 4,
   "metadata": {},
   "outputs": [
    {
     "name": "stdout",
     "output_type": "stream",
     "text": [
      "Max len of text 29\n",
      "vocabulary (used letters) [' ', 'a', 'c', 'd', 'e', 'i', 'j', 'm', 'n', 'o', 'p', 'r', 's', 't', 'w', 'y', 'z', 'ą', 'ć', 'ę', 'ś']\n",
      "unique characters 21\n"
     ]
    }
   ],
   "source": [
    "DATASET_SIZE=200\n",
    "\n",
    "samples = []\n",
    "labels = []\n",
    "all_words = ''\n",
    "max_len = 0\n",
    "for i in range(DATASET_SIZE):\n",
    "    labels.append(i)\n",
    "    words = lslownie(i)\n",
    "    samples.append(words)\n",
    "    all_words += words\n",
    "    if len(words)>max_len: \n",
    "        max_len = len(words)\n",
    "  \n",
    "print('Max len of text',max_len)\n",
    "vocab = sorted(set(all_words))\n",
    "vocab_size = len(vocab)\n",
    "print('vocabulary (used letters)',vocab)\n",
    "print ('unique characters',vocab_size)"
   ]
  },
  {
   "cell_type": "markdown",
   "metadata": {},
   "source": [
    "#### Creating a mapping from unique characters to indices"
   ]
  },
  {
   "cell_type": "code",
   "execution_count": 5,
   "metadata": {},
   "outputs": [
    {
     "name": "stdout",
     "output_type": "stream",
     "text": [
      "char2idx:\n",
      " {' ': 0, 'a': 1, 'c': 2, 'd': 3, 'e': 4, 'i': 5, 'j': 6, 'm': 7, 'n': 8, 'o': 9, 'p': 10, 'r': 11, 's': 12, 't': 13, 'w': 14, 'y': 15, 'z': 16, 'ą': 17, 'ć': 18, 'ę': 19, 'ś': 20}\n",
      "idx2char\n",
      " [' ' 'a' 'c' 'd' 'e' 'i' 'j' 'm' 'n' 'o' 'p' 'r' 's' 't' 'w' 'y' 'z' 'ą'\n",
      " 'ć' 'ę' 'ś']\n"
     ]
    }
   ],
   "source": [
    "char2idx = {char:index for index, char in enumerate(vocab)}\n",
    "print('char2idx:\\n',char2idx)\n",
    "idx2char = np.array(vocab)\n",
    "print('idx2char\\n',idx2char)"
   ]
  },
  {
   "cell_type": "markdown",
   "metadata": {},
   "source": [
    "#### Convert letters to numbers using char2idx"
   ]
  },
  {
   "cell_type": "code",
   "execution_count": 6,
   "metadata": {},
   "outputs": [
    {
     "name": "stdout",
     "output_type": "stream",
     "text": [
      "sto dwadzieścia trzy  ->becomes->  [12 13  9  0  3 14  1  3 16  5  4 20  2  5  1  0 13 11 16 15]\n"
     ]
    }
   ],
   "source": [
    "samples_int = []\n",
    "for s in samples:\n",
    "    v = np.array([char2idx[char] for char in s])\n",
    "    samples_int.append(v) # different sizes!\n",
    "print(samples[123],' ->becomes-> ',samples_int[123])"
   ]
  },
  {
   "cell_type": "markdown",
   "metadata": {},
   "source": [
    "#### From list of lists to numpy - must have a fixed number of characters (30 -> max_len)"
   ]
  },
  {
   "cell_type": "code",
   "execution_count": 7,
   "metadata": {},
   "outputs": [
    {
     "name": "stdout",
     "output_type": "stream",
     "text": [
      "SAMPLES\n",
      "\n",
      " [[16.  4. 11. ...  0.  0.  0.]\n",
      " [ 6.  4.  3. ...  0.  0.  0.]\n",
      " [ 3. 14.  1. ...  0.  0.  0.]\n",
      " ...\n",
      " [12. 13.  9. ...  7.  0.  0.]\n",
      " [12. 13.  9. ...  0.  0.  0.]\n",
      " [12. 13.  9. ...  5. 19. 18.]]\n",
      "(200, 29)\n"
     ]
    }
   ],
   "source": [
    "samples = np.zeros((DATASET_SIZE,max_len))\n",
    "for i in range(len(samples_int)):\n",
    "    for j in range(len(samples_int[i])):\n",
    "        samples[i,j] = np.array(samples_int[i][j]) # all not used have '0' which is ' '\n",
    "print('SAMPLES\\n\\n',samples)\n",
    "print(samples.shape)"
   ]
  },
  {
   "cell_type": "code",
   "execution_count": 8,
   "metadata": {},
   "outputs": [
    {
     "name": "stdout",
     "output_type": "stream",
     "text": [
      "Sample (for 123):\n",
      " [[12.]\n",
      " [13.]\n",
      " [ 9.]\n",
      " [ 0.]\n",
      " [ 3.]\n",
      " [14.]\n",
      " [ 1.]\n",
      " [ 3.]\n",
      " [16.]\n",
      " [ 5.]\n",
      " [ 4.]\n",
      " [20.]\n",
      " [ 2.]\n",
      " [ 5.]\n",
      " [ 1.]\n",
      " [ 0.]\n",
      " [13.]\n",
      " [11.]\n",
      " [16.]\n",
      " [15.]\n",
      " [ 0.]\n",
      " [ 0.]\n",
      " [ 0.]\n",
      " [ 0.]\n",
      " [ 0.]\n",
      " [ 0.]\n",
      " [ 0.]\n",
      " [ 0.]\n",
      " [ 0.]]\n",
      "Sample decoded sto dwadzieścia trzy         \n",
      "Label (output): 123.0\n",
      "samples shape (200, 29, 1)\n",
      "labels shape (200,)\n"
     ]
    }
   ],
   "source": [
    "samples = np.expand_dims(samples,axis=2) #add the third dimension\n",
    "labels = np.array(labels,dtype=float)\n",
    "\n",
    "print(\"Sample (for 123):\\n\",samples[123])\n",
    "print(\"Sample decoded\",to_text(samples[123]))\n",
    "print(\"Label (output):\",labels[123])\n",
    "\n",
    "print('samples shape',samples.shape)\n",
    "print('labels shape',labels.shape)"
   ]
  },
  {
   "cell_type": "code",
   "execution_count": 9,
   "metadata": {},
   "outputs": [
    {
     "name": "stdout",
     "output_type": "stream",
     "text": [
      "Training samples: 100  test samples 100\n"
     ]
    }
   ],
   "source": [
    "TRAINING_SIZE = .5\n",
    "from sklearn.model_selection import train_test_split\n",
    "(trainSamples, testSamples, trainLabels, testLabels) = train_test_split(samples, labels,train_size=TRAINING_SIZE, random_state=1)\n",
    "print('Training samples:',len(trainSamples),' test samples',len(testSamples))"
   ]
  },
  {
   "cell_type": "code",
   "execution_count": 13,
   "metadata": {},
   "outputs": [
    {
     "name": "stdout",
     "output_type": "stream",
     "text": [
      "Training with 100 samples 100 epochs and batch_size= 25\n",
      "\n",
      "0/10 Epochs: 300 - loss=3106.115, loss improvement=141.214\n",
      "text => [predicted value] error=[error]\n",
      "sto czterdzieści pięć         =>  92.81 error = 52.19\n",
      "sto sześćdziesiąt dwa         =>  92.81 error = 69.19\n",
      "osiemdziesiąt dziewięć        =>  92.81 error = 3.81\n",
      "sto dziewięćdziesiąt cztery   =>  92.81 error = 101.19\n",
      "sto jedenaście                =>  92.81 error = 18.19\n",
      "Mean error = 50.222916\n",
      "\n",
      "1/10 Epochs: 400 - loss=3098.412, loss improvement= 7.620\n",
      "text => [predicted value] error=[error]\n",
      "sto sześćdziesiąt trzy        =>  94.98 error = 68.02\n",
      "trzydzieści dwa               =>  94.92 error = 62.92\n",
      "sto pięćdziesiąt              =>  94.93 error = 55.07\n",
      "sto dziewięćdziesiąt dwa      =>  94.98 error = 97.02\n",
      "sto sześćdziesiąt dziewięć    =>  94.98 error = 74.02\n",
      "Mean error = 50.092445\n",
      "\n",
      "2/10 Epochs: 500 - loss=1454.433, loss improvement=1642.968\n",
      "text => [predicted value] error=[error]\n",
      "czterdzieści                  =>  32.60 error = 7.40\n",
      "sto czterdzieści trzy         =>  106.38 error = 36.62\n",
      "siedem                        =>  11.46 error = 4.46\n",
      "siedemdziesiąt siedem         =>  106.38 error = 29.38\n",
      "siedemdziesiąt sześć          =>  106.38 error = 30.38\n",
      "Mean error = 34.469032\n",
      "\n",
      "3/10 Epochs: 600 - loss=276.093, loss improvement=1155.879\n",
      "text => [predicted value] error=[error]\n",
      "siedem                        =>  5.95 error = 1.05\n",
      "sto dziewięćdziesiąt dziewięć =>  136.16 error = 62.84\n",
      "siedemdziesiąt cztery         =>  75.05 error = 1.05\n",
      "sto czterdzieści jeden        =>  136.70 error = 4.30\n",
      "dziewięćdziesiąt trzy         =>  98.69 error = 5.69\n",
      "Mean error = 12.563391\n",
      "\n",
      "4/10 Epochs: 700 - loss=126.901, loss improvement=146.536\n",
      "text => [predicted value] error=[error]\n",
      "siedemdziesiąt jeden          =>  72.53 error = 1.53\n",
      "sto dwa                       =>  101.12 error = 0.88\n",
      "sto dwadzieścia siedem        =>  127.20 error = 0.20\n",
      "siedemdziesiąt dwa            =>  72.24 error = 0.24\n",
      "sześćdziesiąt jeden           =>  62.30 error = 1.30\n",
      "Mean error = 9.100168\n",
      "\n",
      "5/10 Epochs: 800 - loss=59.046, loss improvement=65.711\n",
      "text => [predicted value] error=[error]\n",
      "siedemdziesiąt                =>  70.75 error = 0.75\n",
      "dziewięćdziesiąt osiem        =>  101.69 error = 3.69\n",
      "czterdzieści siedem           =>  45.85 error = 1.15\n",
      "sześćdziesiąt siedem          =>  67.32 error = 0.32\n",
      "trzydzieści dziewięć          =>  49.09 error = 10.09\n",
      "Mean error = 6.4358997\n",
      "\n",
      "6/10 Epochs: 900 - loss=28.371, loss improvement=29.988\n",
      "text => [predicted value] error=[error]\n",
      "sto dziewięćdziesiąt osiem    =>  168.34 error = 29.66\n",
      "sto dwanaście                 =>  111.32 error = 0.68\n",
      "sto trzy                      =>  100.12 error = 2.88\n",
      "sto osiemdziesiąt siedem      =>  168.36 error = 18.64\n",
      "sto dziesięć                  =>  111.12 error = 1.12\n",
      "Mean error = 4.7595677\n",
      "\n",
      "7/10 Epochs: 1000 - loss=15.118, loss improvement=13.057\n",
      "text => [predicted value] error=[error]\n",
      "sto siedemdziesiąt dwa        =>  174.31 error = 2.31\n",
      "pięćdziesiąt pięć             =>  56.16 error = 1.16\n",
      "pięćdziesiąt dwa              =>  53.57 error = 1.57\n",
      "sto osiemnaście               =>  132.81 error = 14.81\n",
      "trzynaście                    =>  20.39 error = 7.39\n",
      "Mean error = 4.225583\n",
      "\n",
      "8/10 Epochs: 1100 - loss= 9.509, loss improvement= 5.714\n",
      "text => [predicted value] error=[error]\n",
      "sto czterdzieści dwa          =>  141.48 error = 0.52\n",
      "sto pięćdziesiąt siedem       =>  157.35 error = 0.35\n",
      "trzydzieści cztery            =>  39.78 error = 5.78\n",
      "dwadzieścia osiem             =>  23.28 error = 4.72\n",
      "trzydzieści cztery            =>  39.78 error = 5.78\n",
      "Mean error = 3.4124572\n",
      "\n",
      "9/10 Epochs: 1200 - loss= 8.289, loss improvement= 0.900\n",
      "text => [predicted value] error=[error]\n",
      "sto siedemdziesiąt jeden      =>  175.87 error = 4.87\n",
      "osiemdziesiąt osiem           =>  85.68 error = 2.32\n",
      "sto dwadzieścia jeden         =>  120.08 error = 0.92\n",
      "sto siedemdziesiąt trzy       =>  176.80 error = 3.80\n",
      "sto dziewięćdziesiąt siedem   =>  181.19 error = 15.81\n",
      "Mean error = 3.6136725\n",
      "Done\n"
     ]
    }
   ],
   "source": [
    "EPOCHS=100\n",
    "BATCH_SIZE = int(len(trainSamples)/4)\n",
    "print('Training with',len(trainSamples),'samples',EPOCHS,'epochs and batch_size=',BATCH_SIZE)\n",
    "for x in range(10):\n",
    "    H = model.fit(trainSamples, trainLabels, epochs=EPOCHS,verbose=0,batch_size=BATCH_SIZE)\n",
    "    num_epochs += EPOCHS\n",
    "    print(\"\\n{}/10 Epochs: {} - loss={:6.3f}, loss improvement={:6.3f}\".\n",
    "          format(x, num_epochs,H.history['loss'][-1], H.history['loss'][0]-H.history['loss'][-1]))\n",
    "    check_model()\n",
    "print(\"Done\")"
   ]
  },
  {
   "cell_type": "code",
   "execution_count": 14,
   "metadata": {},
   "outputs": [
    {
     "name": "stdout",
     "output_type": "stream",
     "text": [
      "text => [predicted value] error=[error]\n",
      "0 zero                          => 0.83 error = 0.83 [T]\n",
      "1 jeden                         => 1.92 error = 0.92 [T]\n",
      "2 dwa                           => 1.47 error = 0.53 [T]\n",
      "3 trzy                          => 2.94 error = 0.06 [T]\n",
      "4 cztery                        => 6.60 error = 2.60 \n",
      "5 pięć                          => 2.15 error = 2.85 \n",
      "6 sześć                         => 6.41 error = 0.41 [T]\n",
      "7 siedem                        => 7.49 error = 0.49 [T]\n",
      "8 osiem                         => 7.07 error = 0.93 [T]\n",
      "9 dziewięć                      => 10.04 error = 1.04 [T]\n",
      "10 dziesięć                      => 10.04 error = 0.04 [T]\n",
      "11 jedenaście                    => 21.58 error = 10.58 \n",
      "12 dwanaście                     => 9.73 error = 2.27 \n",
      "13 trzynaście                    => 19.36 error = 6.36 \n",
      "14 czternaście                   => 25.05 error = 11.05 \n",
      "15 piętnaście                    => 16.03 error = 1.03 [T]\n",
      "16 szesnaście                    => 20.37 error = 4.37 \n",
      "17 siedemnaście                  => 67.82 error = 50.82 \n",
      "18 osiemnaście                   => 16.46 error = 1.54 \n",
      "19 dziewiętnaście                => 52.10 error = 33.10 \n",
      "20 dwadzieścia                   => 20.51 error = 0.51 [T]\n",
      "21 dwadzieścia jeden             => 22.85 error = 1.85 [T]\n",
      "22 dwadzieścia dwa               => 21.59 error = 0.41 [T]\n",
      "23 dwadzieścia trzy              => 24.05 error = 1.05 [T]\n",
      "24 dwadzieścia cztery            => 24.86 error = 0.86 [T]\n",
      "25 dwadzieścia pięć              => 24.29 error = 0.71 [T]\n",
      "26 dwadzieścia sześć             => 26.32 error = 0.32 [T]\n",
      "27 dwadzieścia siedem            => 24.47 error = 2.53 \n",
      "28 dwadzieścia osiem             => 23.94 error = 4.06 \n",
      "29 dwadzieścia dziewięć          => 29.90 error = 0.90 \n",
      "30 trzydzieści                   => 32.84 error = 2.84 [T]\n",
      "31 trzydzieści jeden             => 36.58 error = 5.58 \n",
      "32 trzydzieści dwa               => 34.42 error = 2.42 [T]\n",
      "33 trzydzieści trzy              => 40.84 error = 7.84 \n",
      "34 trzydzieści cztery            => 42.55 error = 8.55 \n",
      "35 trzydzieści pięć              => 41.21 error = 6.21 \n",
      "36 trzydzieści sześć             => 43.87 error = 7.87 \n",
      "37 trzydzieści siedem            => 39.78 error = 2.78 [T]\n",
      "38 trzydzieści osiem             => 39.46 error = 1.46 \n",
      "39 trzydzieści dziewięć          => 49.19 error = 10.19 \n",
      "40 czterdzieści                  => 39.55 error = 0.45 \n",
      "41 czterdzieści jeden            => 42.55 error = 1.55 [T]\n",
      "42 czterdzieści dwa              => 41.25 error = 0.75 \n",
      "43 czterdzieści trzy             => 44.01 error = 1.01 [T]\n",
      "44 czterdzieści cztery           => 45.11 error = 1.11 \n",
      "45 czterdzieści pięć             => 44.13 error = 0.87 \n",
      "46 czterdzieści sześć            => 46.09 error = 0.09 [T]\n",
      "47 czterdzieści siedem           => 45.22 error = 1.78 \n",
      "48 czterdzieści osiem            => 44.43 error = 3.57 \n",
      "49 czterdzieści dziewięć         => 49.99 error = 0.99 [T]\n",
      "50 pięćdziesiąt                  => 53.89 error = 3.89 [T]\n",
      "51 pięćdziesiąt jeden            => 55.91 error = 4.91 \n",
      "52 pięćdziesiąt dwa              => 55.42 error = 3.42 [T]\n",
      "53 pięćdziesiąt trzy             => 57.54 error = 4.54 \n",
      "54 pięćdziesiąt cztery           => 58.65 error = 4.65 \n",
      "55 pięćdziesiąt pięć             => 57.48 error = 2.48 [T]\n",
      "56 pięćdziesiąt sześć            => 59.33 error = 3.33 \n",
      "57 pięćdziesiąt siedem           => 58.66 error = 1.66 [T]\n",
      "58 pięćdziesiąt osiem            => 58.55 error = 0.55 \n",
      "59 pięćdziesiąt dziewięć         => 61.71 error = 2.71 \n",
      "60 sześćdziesiąt                 => 59.75 error = 0.25 [T]\n",
      "61 sześćdziesiąt jeden           => 63.46 error = 2.46 [T]\n",
      "62 sześćdziesiąt dwa             => 63.32 error = 1.32 [T]\n",
      "63 sześćdziesiąt trzy            => 65.05 error = 2.05 [T]\n",
      "64 sześćdziesiąt cztery          => 64.16 error = 0.16 [T]\n",
      "65 sześćdziesiąt pięć            => 65.69 error = 0.69 [T]\n",
      "66 sześćdziesiąt sześć           => 66.93 error = 0.93 \n",
      "67 sześćdziesiąt siedem          => 70.82 error = 3.82 \n",
      "68 sześćdziesiąt osiem           => 71.65 error = 3.65 [T]\n",
      "69 sześćdziesiąt dziewięć        => 69.28 error = 0.28 \n",
      "70 siedemdziesiąt                => 70.43 error = 0.43 [T]\n",
      "71 siedemdziesiąt jeden          => 73.66 error = 2.66 [T]\n",
      "72 siedemdziesiąt dwa            => 71.47 error = 0.53 [T]\n",
      "73 siedemdziesiąt trzy           => 75.11 error = 2.11 \n",
      "74 siedemdziesiąt cztery         => 75.67 error = 1.67 [T]\n",
      "75 siedemdziesiąt pięć           => 74.86 error = 0.14 [T]\n",
      "76 siedemdziesiąt sześć          => 75.93 error = 0.07 [T]\n",
      "77 siedemdziesiąt siedem         => 74.76 error = 2.24 [T]\n",
      "78 siedemdziesiąt osiem          => 74.80 error = 3.20 \n",
      "79 siedemdziesiąt dziewięć       => 78.56 error = 0.44 [T]\n",
      "80 osiemdziesiąt                 => 79.55 error = 0.45 [T]\n",
      "81 osiemdziesiąt jeden           => 84.27 error = 3.27 \n",
      "82 osiemdziesiąt dwa             => 81.22 error = 0.78 \n",
      "83 osiemdziesiąt trzy            => 85.15 error = 2.15 [T]\n",
      "84 osiemdziesiąt cztery          => 86.22 error = 2.22 \n",
      "85 osiemdziesiąt pięć            => 85.12 error = 0.12 [T]\n",
      "86 osiemdziesiąt sześć           => 85.68 error = 0.32 [T]\n",
      "87 osiemdziesiąt siedem          => 85.86 error = 1.14 [T]\n",
      "88 osiemdziesiąt osiem           => 85.68 error = 2.32 [T]\n",
      "89 osiemdziesiąt dziewięć        => 93.00 error = 4.00 \n",
      "90 dziewięćdziesiąt              => 87.99 error = 2.01 \n",
      "91 dziewięćdziesiąt jeden        => 92.63 error = 1.63 [T]\n",
      "92 dziewięćdziesiąt dwa          => 93.09 error = 1.09 [T]\n",
      "93 dziewięćdziesiąt trzy         => 99.93 error = 6.93 \n",
      "94 dziewięćdziesiąt cztery       => 94.06 error = 0.06 \n",
      "95 dziewięćdziesiąt pięć         => 100.27 error = 5.27 \n",
      "96 dziewięćdziesiąt sześć        => 98.47 error = 2.47 [T]\n",
      "97 dziewięćdziesiąt siedem       => 100.41 error = 3.41 \n",
      "98 dziewięćdziesiąt osiem        => 103.61 error = 5.61 \n",
      "99 dziewięćdziesiąt dziewięć     => 94.98 error = 4.02 \n",
      "100 sto                           => 98.43 error = 1.57 [T]\n",
      "101 sto jeden                     => 99.29 error = 1.71 [T]\n",
      "102 sto dwa                       => 98.59 error = 3.41 \n",
      "103 sto trzy                      => 97.24 error = 5.76 \n",
      "104 sto cztery                    => 105.87 error = 1.87 [T]\n",
      "105 sto pięć                      => 95.04 error = 9.96 \n",
      "106 sto sześć                     => 99.91 error = 6.09 \n",
      "107 sto siedem                    => 106.64 error = 0.36 \n",
      "108 sto osiem                     => 104.79 error = 3.21 \n",
      "109 sto dziewięć                  => 110.11 error = 1.11 [T]\n",
      "110 sto dziesięć                  => 110.60 error = 0.60 \n",
      "111 sto jedenaście                => 112.66 error = 1.66 [T]\n",
      "112 sto dwanaście                 => 109.22 error = 2.78 [T]\n",
      "113 sto trzynaście                => 115.28 error = 2.28 \n",
      "114 sto czternaście               => 117.51 error = 3.51 \n",
      "115 sto piętnaście                => 116.04 error = 1.04 [T]\n",
      "116 sto szesnaście                => 117.47 error = 1.47 \n",
      "117 sto siedemnaście              => 132.58 error = 15.58 \n",
      "118 sto osiemnaście               => 131.20 error = 13.20 \n",
      "119 sto dziewiętnaście            => 153.44 error = 34.44 \n",
      "120 sto dwadzieścia               => 113.07 error = 6.93 \n",
      "121 sto dwadzieścia jeden         => 120.08 error = 0.92 [T]\n",
      "122 sto dwadzieścia dwa           => 117.01 error = 4.99 \n",
      "123 sto dwadzieścia trzy          => 127.01 error = 4.01 \n",
      "124 sto dwadzieścia cztery        => 122.65 error = 1.35 \n",
      "125 sto dwadzieścia pięć          => 125.48 error = 0.48 [T]\n",
      "126 sto dwadzieścia sześć         => 126.53 error = 0.53 [T]\n",
      "127 sto dwadzieścia siedem        => 125.04 error = 1.96 \n",
      "128 sto dwadzieścia osiem         => 127.20 error = 0.80 [T]\n",
      "129 sto dwadzieścia dziewięć      => 130.09 error = 1.09 [T]\n",
      "130 sto trzydzieści               => 132.26 error = 2.26 [T]\n",
      "131 sto trzydzieści jeden         => 132.79 error = 1.79 [T]\n",
      "132 sto trzydzieści dwa           => 132.88 error = 0.88 \n",
      "133 sto trzydzieści trzy          => 136.15 error = 3.15 [T]\n",
      "134 sto trzydzieści cztery        => 135.33 error = 1.33 [T]\n",
      "135 sto trzydzieści pięć          => 135.55 error = 0.55 [T]\n",
      "136 sto trzydzieści sześć         => 137.54 error = 1.54 \n",
      "137 sto trzydzieści siedem        => 136.42 error = 0.58 [T]\n",
      "138 sto trzydzieści osiem         => 138.31 error = 0.31 \n",
      "139 sto trzydzieści dziewięć      => 140.97 error = 1.97 [T]\n",
      "140 sto czterdzieści              => 140.56 error = 0.56 [T]\n",
      "141 sto czterdzieści jeden        => 141.40 error = 0.40 [T]\n",
      "142 sto czterdzieści dwa          => 141.53 error = 0.47 [T]\n",
      "143 sto czterdzieści trzy         => 144.14 error = 1.14 [T]\n",
      "144 sto czterdzieści cztery       => 144.10 error = 0.10 [T]\n",
      "145 sto czterdzieści pięć         => 143.69 error = 1.31 [T]\n",
      "146 sto czterdzieści sześć        => 145.69 error = 0.31 [T]\n",
      "147 sto czterdzieści siedem       => 144.81 error = 2.19 [T]\n",
      "148 sto czterdzieści osiem        => 145.99 error = 2.01 \n",
      "149 sto czterdzieści dziewięć     => 150.06 error = 1.06 [T]\n",
      "150 sto pięćdziesiąt              => 150.09 error = 0.09 [T]\n",
      "151 sto pięćdziesiąt jeden        => 152.77 error = 1.77 [T]\n",
      "152 sto pięćdziesiąt dwa          => 151.71 error = 0.29 [T]\n",
      "153 sto pięćdziesiąt trzy         => 155.79 error = 2.79 \n",
      "154 sto pięćdziesiąt cztery       => 156.52 error = 2.52 \n",
      "155 sto pięćdziesiąt pięć         => 155.10 error = 0.10 [T]\n",
      "156 sto pięćdziesiąt sześć        => 157.73 error = 1.73 [T]\n",
      "157 sto pięćdziesiąt siedem       => 156.93 error = 0.07 [T]\n",
      "158 sto pięćdziesiąt osiem        => 159.25 error = 1.25 \n",
      "159 sto pięćdziesiąt dziewięć     => 161.53 error = 2.53 \n",
      "160 sto sześćdziesiąt             => 157.61 error = 2.39 [T]\n",
      "161 sto sześćdziesiąt jeden       => 162.12 error = 1.12 \n",
      "162 sto sześćdziesiąt dwa         => 160.59 error = 1.41 \n",
      "163 sto sześćdziesiąt trzy        => 165.06 error = 2.06 [T]\n",
      "164 sto sześćdziesiąt cztery      => 165.68 error = 1.68 [T]\n",
      "165 sto sześćdziesiąt pięć        => 164.40 error = 0.60 \n",
      "166 sto sześćdziesiąt sześć       => 167.33 error = 1.33 \n",
      "167 sto sześćdziesiąt siedem      => 167.51 error = 0.51 [T]\n",
      "168 sto sześćdziesiąt osiem       => 170.76 error = 2.76 \n",
      "169 sto sześćdziesiąt dziewięć    => 170.57 error = 1.57 [T]\n",
      "170 sto siedemdziesiąt            => 167.65 error = 2.35 [T]\n",
      "171 sto siedemdziesiąt jeden      => 175.87 error = 4.87 \n",
      "172 sto siedemdziesiąt dwa        => 173.21 error = 1.21 \n",
      "173 sto siedemdziesiąt trzy       => 176.80 error = 3.80 \n",
      "174 sto siedemdziesiąt cztery     => 177.16 error = 3.16 \n",
      "175 sto siedemdziesiąt pięć       => 177.46 error = 2.46 [T]\n",
      "176 sto siedemdziesiąt sześć      => 179.01 error = 3.01 \n",
      "177 sto siedemdziesiąt siedem     => 180.07 error = 3.07 \n",
      "178 sto siedemdziesiąt osiem      => 180.65 error = 2.65 [T]\n",
      "179 sto siedemdziesiąt dziewięć   => 177.95 error = 1.05 \n",
      "180 sto osiemdziesiąt             => 173.64 error = 6.36 [T]\n",
      "181 sto osiemdziesiąt jeden       => 180.51 error = 0.49 \n",
      "182 sto osiemdziesiąt dwa         => 179.25 error = 2.75 [T]\n",
      "183 sto osiemdziesiąt trzy        => 180.25 error = 2.75 \n",
      "184 sto osiemdziesiąt cztery      => 180.24 error = 3.76 \n",
      "185 sto osiemdziesiąt pięć        => 180.47 error = 4.53 \n",
      "186 sto osiemdziesiąt sześć       => 180.63 error = 5.37 \n",
      "187 sto osiemdziesiąt siedem      => 181.06 error = 5.94 \n",
      "188 sto osiemdziesiąt osiem       => 181.13 error = 6.87 [T]\n",
      "189 sto osiemdziesiąt dziewięć    => 180.40 error = 8.60 \n",
      "190 sto dziewięćdziesiąt          => 181.14 error = 8.86 [T]\n",
      "191 sto dziewięćdziesiąt jeden    => 181.18 error = 9.82 \n",
      "192 sto dziewięćdziesiąt dwa      => 181.18 error = 10.82 [T]\n",
      "193 sto dziewięćdziesiąt trzy     => 181.11 error = 11.89 \n",
      "194 sto dziewięćdziesiąt cztery   => 180.75 error = 13.25 \n",
      "195 sto dziewięćdziesiąt pięć     => 181.17 error = 13.83 \n",
      "196 sto dziewięćdziesiąt sześć    => 181.12 error = 14.88 [T]\n",
      "197 sto dziewięćdziesiąt siedem   => 181.19 error = 15.81 \n",
      "198 sto dziewięćdziesiąt osiem    => 181.19 error = 16.81 \n",
      "199 sto dziewięćdziesiąt dziewięć => 177.84 error = 21.16 \n",
      "Mean error = 3.6136725\n"
     ]
    },
    {
     "data": {
      "text/plain": [
       "3.6136725"
      ]
     },
     "execution_count": 14,
     "metadata": {},
     "output_type": "execute_result"
    }
   ],
   "source": [
    "import random\n",
    "\n",
    "def check_model(verbose=0,how_many=5):\n",
    "    pred = model.predict(samples)\n",
    "    print('text => [predicted value] error=[error]')\n",
    "    error = []\n",
    "    for i in range(len(pred)):\n",
    "        res = samples[i]\n",
    "        error.append(abs(i-pred[i]))\n",
    "        if verbose==1:\n",
    "            train = ''\n",
    "            if i in trainLabels: train='[T]'\n",
    "            print(i,to_text(res),'=> {:.2f} error = {:.2f}'.format(pred[i,0],abs(i-pred[i,0])),train)\n",
    "    if verbose<1: # if not verbose just display 'how_many' random samples\n",
    "        for i in range(how_many):        \n",
    "            x = random.randrange(DATASET_SIZE)\n",
    "            res = samples[x]\n",
    "            print(to_text(res),'=>  {:.2f} error = {:.2f}'.format(pred[x,0],abs(x-pred[x,0])))      \n",
    "    print('Mean error =',np.mean(error))        \n",
    "    return np.mean(error)\n",
    "check_model(1)"
   ]
  },
  {
   "cell_type": "code",
   "execution_count": 24,
   "metadata": {},
   "outputs": [
    {
     "ename": "KeyError",
     "evalue": "'f'",
     "output_type": "error",
     "traceback": [
      "\u001b[1;31m---------------------------------------------------------------------------\u001b[0m",
      "\u001b[1;31mKeyError\u001b[0m                                  Traceback (most recent call last)",
      "\u001b[1;32m<ipython-input-24-c47a69b86e30>\u001b[0m in \u001b[0;36m<module>\u001b[1;34m\u001b[0m\n\u001b[1;32m----> 1\u001b[1;33m \u001b[0mx\u001b[0m \u001b[1;33m=\u001b[0m \u001b[0mto_number\u001b[0m\u001b[1;33m(\u001b[0m\u001b[1;34m'sto dsjsdj sdfsd'\u001b[0m\u001b[1;33m)\u001b[0m\u001b[1;33m\u001b[0m\u001b[1;33m\u001b[0m\u001b[0m\n\u001b[0m\u001b[0;32m      2\u001b[0m \u001b[1;31m#              xxxxxxxxxxxxxxxxxxxxxxxxxxxxx\u001b[0m\u001b[1;33m\u001b[0m\u001b[1;33m\u001b[0m\u001b[1;33m\u001b[0m\u001b[0m\n\u001b[0;32m      3\u001b[0m \u001b[0mx\u001b[0m \u001b[1;33m=\u001b[0m \u001b[0mnp\u001b[0m\u001b[1;33m.\u001b[0m\u001b[0mexpand_dims\u001b[0m\u001b[1;33m(\u001b[0m\u001b[0mx\u001b[0m\u001b[1;33m,\u001b[0m\u001b[0maxis\u001b[0m\u001b[1;33m=\u001b[0m\u001b[1;36m1\u001b[0m\u001b[1;33m)\u001b[0m\u001b[1;33m\u001b[0m\u001b[1;33m\u001b[0m\u001b[0m\n\u001b[0;32m      4\u001b[0m \u001b[0mx\u001b[0m \u001b[1;33m=\u001b[0m \u001b[0mnp\u001b[0m\u001b[1;33m.\u001b[0m\u001b[0mexpand_dims\u001b[0m\u001b[1;33m(\u001b[0m\u001b[0mx\u001b[0m\u001b[1;33m,\u001b[0m\u001b[0maxis\u001b[0m\u001b[1;33m=\u001b[0m\u001b[1;36m0\u001b[0m\u001b[1;33m)\u001b[0m\u001b[1;33m\u001b[0m\u001b[1;33m\u001b[0m\u001b[0m\n\u001b[0;32m      5\u001b[0m \u001b[0mmodel\u001b[0m\u001b[1;33m.\u001b[0m\u001b[0mpredict\u001b[0m\u001b[1;33m(\u001b[0m\u001b[0mx\u001b[0m\u001b[1;33m)\u001b[0m\u001b[1;33m\u001b[0m\u001b[1;33m\u001b[0m\u001b[0m\n",
      "\u001b[1;32m<ipython-input-3-f091470e3f21>\u001b[0m in \u001b[0;36mto_number\u001b[1;34m(words)\u001b[0m\n\u001b[0;32m      4\u001b[0m \u001b[1;31m# helper method, converts text to sequence of numbers\u001b[0m\u001b[1;33m\u001b[0m\u001b[1;33m\u001b[0m\u001b[1;33m\u001b[0m\u001b[0m\n\u001b[0;32m      5\u001b[0m \u001b[1;32mdef\u001b[0m \u001b[0mto_number\u001b[0m\u001b[1;33m(\u001b[0m\u001b[0mwords\u001b[0m\u001b[1;33m)\u001b[0m\u001b[1;33m:\u001b[0m\u001b[1;33m\u001b[0m\u001b[1;33m\u001b[0m\u001b[0m\n\u001b[1;32m----> 6\u001b[1;33m     \u001b[1;32mreturn\u001b[0m \u001b[0mnp\u001b[0m\u001b[1;33m.\u001b[0m\u001b[0marray\u001b[0m\u001b[1;33m(\u001b[0m\u001b[1;33m[\u001b[0m\u001b[0mchar2idx\u001b[0m\u001b[1;33m[\u001b[0m\u001b[0mchar\u001b[0m\u001b[1;33m]\u001b[0m \u001b[1;32mfor\u001b[0m \u001b[0mchar\u001b[0m \u001b[1;32min\u001b[0m \u001b[0mwords\u001b[0m\u001b[1;33m]\u001b[0m\u001b[1;33m)\u001b[0m\u001b[1;33m\u001b[0m\u001b[1;33m\u001b[0m\u001b[0m\n\u001b[0m",
      "\u001b[1;32m<ipython-input-3-f091470e3f21>\u001b[0m in \u001b[0;36m<listcomp>\u001b[1;34m(.0)\u001b[0m\n\u001b[0;32m      4\u001b[0m \u001b[1;31m# helper method, converts text to sequence of numbers\u001b[0m\u001b[1;33m\u001b[0m\u001b[1;33m\u001b[0m\u001b[1;33m\u001b[0m\u001b[0m\n\u001b[0;32m      5\u001b[0m \u001b[1;32mdef\u001b[0m \u001b[0mto_number\u001b[0m\u001b[1;33m(\u001b[0m\u001b[0mwords\u001b[0m\u001b[1;33m)\u001b[0m\u001b[1;33m:\u001b[0m\u001b[1;33m\u001b[0m\u001b[1;33m\u001b[0m\u001b[0m\n\u001b[1;32m----> 6\u001b[1;33m     \u001b[1;32mreturn\u001b[0m \u001b[0mnp\u001b[0m\u001b[1;33m.\u001b[0m\u001b[0marray\u001b[0m\u001b[1;33m(\u001b[0m\u001b[1;33m[\u001b[0m\u001b[0mchar2idx\u001b[0m\u001b[1;33m[\u001b[0m\u001b[0mchar\u001b[0m\u001b[1;33m]\u001b[0m \u001b[1;32mfor\u001b[0m \u001b[0mchar\u001b[0m \u001b[1;32min\u001b[0m \u001b[0mwords\u001b[0m\u001b[1;33m]\u001b[0m\u001b[1;33m)\u001b[0m\u001b[1;33m\u001b[0m\u001b[1;33m\u001b[0m\u001b[0m\n\u001b[0m",
      "\u001b[1;31mKeyError\u001b[0m: 'f'"
     ]
    }
   ],
   "source": [
    "\n",
    "x = to_number('sto dsjsdj sdfsd') \n",
    "#              xxxxxxxxxxxxxxxxxxxxxxxxxxxxx\n",
    "x = np.expand_dims(x,axis=1)\n",
    "x = np.expand_dims(x,axis=0)\n",
    "model.predict(x)"
   ]
  },
  {
   "cell_type": "code",
   "execution_count": null,
   "metadata": {},
   "outputs": [],
   "source": [
    "model.save('model_words2numbers.h5')"
   ]
  }
 ],
 "metadata": {
  "kernelspec": {
   "display_name": "Python 3",
   "language": "python",
   "name": "python3"
  },
  "language_info": {
   "codemirror_mode": {
    "name": "ipython",
    "version": 3
   },
   "file_extension": ".py",
   "mimetype": "text/x-python",
   "name": "python",
   "nbconvert_exporter": "python",
   "pygments_lexer": "ipython3",
   "version": "3.8.5"
  }
 },
 "nbformat": 4,
 "nbformat_minor": 4
}
