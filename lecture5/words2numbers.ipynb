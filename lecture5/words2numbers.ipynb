{
 "cells": [
  {
   "cell_type": "markdown",
   "metadata": {},
   "source": [
    "# Model transforming words into a number\n",
    "- input: sequence of letters\n",
    "- output: number \n",
    "\n",
    "\n",
    "Examples: \n",
    "- input: sequence 'one hundred' output: 100\n",
    "- input: sequence 'two hundred fourteen' output: 214\n",
    "\n",
    "The code in file number2words.py taken from: https://www.codesansar.com/python-programming-examples/number-words-conversion-no-library-used.htm"
   ]
  },
  {
   "cell_type": "code",
   "execution_count": 1,
   "metadata": {},
   "outputs": [],
   "source": [
    "from tensorflow.keras.layers import Dense\n",
    "from tensorflow.keras.models import Sequential\n",
    "from tensorflow.keras.layers import LSTM\n",
    "import numpy as np\n",
    "from number2words import getWords"
   ]
  },
  {
   "cell_type": "markdown",
   "metadata": {},
   "source": [
    "## Model"
   ]
  },
  {
   "cell_type": "code",
   "execution_count": 2,
   "metadata": {},
   "outputs": [
    {
     "name": "stdout",
     "output_type": "stream",
     "text": [
      "Model: \"sequential\"\n",
      "_________________________________________________________________\n",
      "Layer (type)                 Output Shape              Param #   \n",
      "=================================================================\n",
      "lstm (LSTM)                  (None, None, 128)         66560     \n",
      "_________________________________________________________________\n",
      "lstm_1 (LSTM)                (None, 128)               131584    \n",
      "_________________________________________________________________\n",
      "dense (Dense)                (None, 1)                 129       \n",
      "=================================================================\n",
      "Total params: 198,273\n",
      "Trainable params: 198,273\n",
      "Non-trainable params: 0\n",
      "_________________________________________________________________\n"
     ]
    }
   ],
   "source": [
    "model = Sequential()\n",
    "model.add(LSTM(128,input_shape=(None,1),return_sequences=True)) # sequences of singlen numbers\n",
    "model.add(LSTM(128))\n",
    "model.add(Dense(1))\n",
    "\n",
    "model.compile(loss='mean_squared_error', optimizer=\"adam\",metrics=['mae','mse'])\n",
    "num_epochs = 0\n",
    "model.summary()"
   ]
  },
  {
   "cell_type": "markdown",
   "metadata": {},
   "source": [
    "## Dataset creation"
   ]
  },
  {
   "cell_type": "markdown",
   "metadata": {},
   "source": [
    "### Helper methods"
   ]
  },
  {
   "cell_type": "code",
   "execution_count": 6,
   "metadata": {},
   "outputs": [],
   "source": [
    "# helper method, converts sequence of numbers to text\n",
    "def to_text(sample):\n",
    "    return ''.join([idx2char[int(x)] for x in sample])\n",
    "# helper method, converts text to sequence of numbers\n",
    "def to_number(words):\n",
    "    return np.array([char2idx[char] for char in words])"
   ]
  },
  {
   "cell_type": "markdown",
   "metadata": {},
   "source": [
    "### Dataset - **samples** and **labels**"
   ]
  },
  {
   "cell_type": "code",
   "execution_count": 7,
   "metadata": {},
   "outputs": [
    {
     "name": "stdout",
     "output_type": "stream",
     "text": [
      "Max len of text 27\n",
      "vocabulary (used letters) [' ', 'd', 'e', 'f', 'g', 'h', 'i', 'l', 'n', 'o', 'r', 's', 't', 'u', 'v', 'w', 'x', 'y', 'z']\n",
      "unique characters 19\n"
     ]
    }
   ],
   "source": [
    "DATASET_SIZE=200\n",
    "\n",
    "samples = []\n",
    "labels = []\n",
    "all_words = ''\n",
    "max_len = 0\n",
    "for i in range(DATASET_SIZE):\n",
    "    labels.append(i)\n",
    "    #words = lslownie(i)\n",
    "    words = getWords(i)\n",
    "    samples.append(words)\n",
    "    all_words += words\n",
    "    if len(words)>max_len: \n",
    "        max_len = len(words)\n",
    "  \n",
    "print('Max len of text',max_len)\n",
    "vocab = sorted(set(all_words))\n",
    "vocab_size = len(vocab)\n",
    "print('vocabulary (used letters)',vocab)\n",
    "print ('unique characters',vocab_size)"
   ]
  },
  {
   "cell_type": "markdown",
   "metadata": {},
   "source": [
    "#### Creating a mapping from unique characters to indices"
   ]
  },
  {
   "cell_type": "code",
   "execution_count": 8,
   "metadata": {},
   "outputs": [
    {
     "name": "stdout",
     "output_type": "stream",
     "text": [
      "char2idx:\n",
      " {' ': 0, 'd': 1, 'e': 2, 'f': 3, 'g': 4, 'h': 5, 'i': 6, 'l': 7, 'n': 8, 'o': 9, 'r': 10, 's': 11, 't': 12, 'u': 13, 'v': 14, 'w': 15, 'x': 16, 'y': 17, 'z': 18}\n",
      "idx2char\n",
      " [' ' 'd' 'e' 'f' 'g' 'h' 'i' 'l' 'n' 'o' 'r' 's' 't' 'u' 'v' 'w' 'x' 'y'\n",
      " 'z']\n"
     ]
    }
   ],
   "source": [
    "char2idx = {char:index for index, char in enumerate(vocab)}\n",
    "print('char2idx:\\n',char2idx)\n",
    "idx2char = np.array(vocab)\n",
    "print('idx2char\\n',idx2char)"
   ]
  },
  {
   "cell_type": "markdown",
   "metadata": {},
   "source": [
    "#### Convert letters to numbers using char2idx"
   ]
  },
  {
   "cell_type": "code",
   "execution_count": 9,
   "metadata": {},
   "outputs": [
    {
     "name": "stdout",
     "output_type": "stream",
     "text": [
      "one hundred twenty three    ->becomes->  [ 9  8  2  0  5 13  8  1 10  2  1  0 12 15  2  8 12 17  0 12  5 10  2  2\n",
      "  0  0]\n"
     ]
    }
   ],
   "source": [
    "samples_int = []\n",
    "for s in samples:\n",
    "    v = np.array([char2idx[char] for char in s])\n",
    "    samples_int.append(v) # different sizes!\n",
    "print(samples[123],' ->becomes-> ',samples_int[123])"
   ]
  },
  {
   "cell_type": "markdown",
   "metadata": {},
   "source": [
    "#### From list of lists to numpy - must have a fixed number of characters (30 -> max_len)"
   ]
  },
  {
   "cell_type": "code",
   "execution_count": 10,
   "metadata": {},
   "outputs": [
    {
     "name": "stdout",
     "output_type": "stream",
     "text": [
      "SAMPLES\n",
      "\n",
      " [[18.  2. 10. ...  0.  0.  0.]\n",
      " [ 9.  8.  2. ...  0.  0.  0.]\n",
      " [12. 15.  9. ...  0.  0.  0.]\n",
      " ...\n",
      " [ 9.  8.  2. ...  0.  0.  0.]\n",
      " [ 9.  8.  2. ...  0.  0.  0.]\n",
      " [ 9.  8.  2. ...  0.  0.  0.]]\n",
      "(200, 27)\n"
     ]
    }
   ],
   "source": [
    "samples = np.zeros((DATASET_SIZE,max_len))\n",
    "for i in range(len(samples_int)):\n",
    "    for j in range(len(samples_int[i])):\n",
    "        samples[i,j] = np.array(samples_int[i][j]) # all not used have '0' which is ' '\n",
    "print('SAMPLES\\n\\n',samples)\n",
    "print(samples.shape)"
   ]
  },
  {
   "cell_type": "code",
   "execution_count": 11,
   "metadata": {},
   "outputs": [
    {
     "name": "stdout",
     "output_type": "stream",
     "text": [
      "Sample (for 123):\n",
      " [[ 9.]\n",
      " [ 8.]\n",
      " [ 2.]\n",
      " [ 0.]\n",
      " [ 5.]\n",
      " [13.]\n",
      " [ 8.]\n",
      " [ 1.]\n",
      " [10.]\n",
      " [ 2.]\n",
      " [ 1.]\n",
      " [ 0.]\n",
      " [12.]\n",
      " [15.]\n",
      " [ 2.]\n",
      " [ 8.]\n",
      " [12.]\n",
      " [17.]\n",
      " [ 0.]\n",
      " [12.]\n",
      " [ 5.]\n",
      " [10.]\n",
      " [ 2.]\n",
      " [ 2.]\n",
      " [ 0.]\n",
      " [ 0.]\n",
      " [ 0.]]\n",
      "Sample decoded one hundred twenty three   \n",
      "Label (output): 123.0\n",
      "samples shape (200, 27, 1)\n",
      "labels shape (200,)\n"
     ]
    }
   ],
   "source": [
    "samples = np.expand_dims(samples,axis=2) #add the third dimension\n",
    "labels = np.array(labels,dtype=float)\n",
    "\n",
    "print(\"Sample (for 123):\\n\",samples[123])\n",
    "print(\"Sample decoded\",to_text(samples[123]))\n",
    "print(\"Label (output):\",labels[123])\n",
    "\n",
    "print('samples shape',samples.shape)\n",
    "print('labels shape',labels.shape)"
   ]
  },
  {
   "cell_type": "code",
   "execution_count": 12,
   "metadata": {},
   "outputs": [
    {
     "name": "stdout",
     "output_type": "stream",
     "text": [
      "Training samples: 100  test samples 100\n"
     ]
    }
   ],
   "source": [
    "TRAINING_SIZE = .5\n",
    "from sklearn.model_selection import train_test_split\n",
    "(trainSamples, testSamples, trainLabels, testLabels) = train_test_split(samples, labels,train_size=TRAINING_SIZE, random_state=1)\n",
    "print('Training samples:',len(trainSamples),' test samples',len(testSamples))"
   ]
  },
  {
   "cell_type": "code",
   "execution_count": 17,
   "metadata": {},
   "outputs": [
    {
     "name": "stdout",
     "output_type": "stream",
     "text": [
      "Training with 100 samples 100 epochs and batch_size= 25\n",
      "\n",
      "0/10 Epochs: 1100 - loss=20.782, loss improvement=37.244\n",
      "text => [predicted value] error=[error]\n",
      "seventy one                 =>  71.70 error = 0.70\n",
      "one hundred eighty nine     =>  171.35 error = 17.65\n",
      "one hundred sixty seven     =>  166.90 error = 0.10\n",
      "one hundred forty           =>  138.55 error = 1.45\n",
      "one hundred fifty eight     =>  166.43 error = 8.43\n",
      "one hundred thirty eight    =>  140.75 error = 2.75\n",
      "twenty three                =>  23.43 error = 0.43\n",
      "one hundred sixty six       =>  162.71 error = 3.29\n",
      "one hundred six             =>  111.67 error = 5.67\n",
      "one hundred seventy         =>  171.00 error = 1.00\n",
      "Mean error = 5.8145185\n",
      "\n",
      "1/10 Epochs: 1200 - loss=10.194, loss improvement=10.290\n",
      "text => [predicted value] error=[error]\n",
      "one hundred sixty two       =>  156.66 error = 5.34\n",
      "one hundred twenty two      =>  129.68 error = 7.68\n",
      "forty four                  =>  54.97 error = 10.97\n",
      "one hundred twenty eight    =>  128.84 error = 0.84\n",
      "one hundred twenty five     =>  125.80 error = 0.80\n",
      "one hundred twenty two      =>  129.68 error = 7.68\n",
      "one hundred sixty two       =>  156.66 error = 5.34\n",
      "forty seven                 =>  49.67 error = 2.67\n",
      "twenty one                  =>  20.99 error = 0.01\n",
      "one hundred eighty two      =>  177.03 error = 4.97\n",
      "Mean error = 5.324729\n",
      "\n",
      "2/10 Epochs: 1300 - loss= 6.568, loss improvement= 4.474\n",
      "text => [predicted value] error=[error]\n",
      "one hundred sixty one       =>  160.51 error = 0.49\n",
      "sixty                       =>  60.53 error = 0.53\n",
      "one hundred ninety nine     =>  182.23 error = 16.77\n",
      "ninety seven                =>  89.15 error = 7.85\n",
      "one hundred fourteen        =>  128.73 error = 14.73\n",
      "one hundred sixty two       =>  159.96 error = 2.04\n",
      "seventy three               =>  78.54 error = 5.54\n",
      "eighty one                  =>  62.64 error = 18.36\n",
      "one hundred five            =>  111.36 error = 6.36\n",
      "thirty two                  =>  31.97 error = 0.03\n",
      "Mean error = 5.2373447\n",
      "\n",
      "3/10 Epochs: 1400 - loss= 9.351, loss improvement=-3.131\n",
      "text => [predicted value] error=[error]\n",
      "one hundred forty eight     =>  150.19 error = 2.19\n",
      "one hundred ninety four     =>  185.00 error = 9.00\n",
      "forty one                   =>  39.45 error = 1.55\n",
      "eighty six                  =>  85.77 error = 0.23\n",
      "one hundred seventy seven   =>  181.97 error = 4.97\n",
      "seventy six                 =>  76.50 error = 0.50\n",
      "seventy four                =>  74.10 error = 0.10\n",
      "one hundred eleven          =>  107.46 error = 3.54\n",
      "one hundred forty four      =>  139.27 error = 4.73\n",
      "one hundred one             =>  98.92 error = 2.08\n",
      "Mean error = 5.536701\n",
      "\n",
      "4/10 Epochs: 1500 - loss= 1.269, loss improvement=10.625\n",
      "text => [predicted value] error=[error]\n",
      "one hundred ninety three    =>  187.94 error = 5.06\n",
      "one hundred thirty          =>  130.16 error = 0.16\n",
      "one hundred two             =>  104.85 error = 2.85\n",
      "forty                       =>  33.36 error = 6.64\n",
      "forty four                  =>  55.30 error = 11.30\n",
      "twenty nine                 =>  22.47 error = 6.53\n",
      "one hundred sixty nine      =>  167.26 error = 1.74\n",
      "one hundred twenty seven    =>  125.32 error = 1.68\n",
      "twenty six                  =>  24.42 error = 1.58\n",
      "eighteen                    =>  39.70 error = 21.70\n",
      "Mean error = 4.500819\n",
      "\n",
      "5/10 Epochs: 1600 - loss= 1.242, loss improvement= 0.042\n",
      "text => [predicted value] error=[error]\n",
      "one hundred seventy one     =>  170.28 error = 0.72\n",
      "one hundred sixteen         =>  133.78 error = 17.78\n",
      "one hundred forty eight     =>  156.15 error = 8.15\n",
      "one hundred ten             =>  104.55 error = 5.45\n",
      "one hundred sixty four      =>  163.16 error = 0.84\n",
      "ninety six                  =>  96.04 error = 0.04\n",
      "one hundred nine            =>  108.69 error = 0.31\n",
      "one hundred twenty six      =>  126.00 error = 0.00\n",
      "forty four                  =>  55.14 error = 11.14\n",
      "one hundred seventy three   =>  173.83 error = 0.83\n",
      "Mean error = 4.3308907\n",
      "\n",
      "6/10 Epochs: 1700 - loss= 0.967, loss improvement= 0.018\n",
      "text => [predicted value] error=[error]\n",
      "one hundred ninety nine     =>  190.77 error = 8.23\n",
      "fifty seven                 =>  57.33 error = 0.33\n",
      "fifteen                     =>  14.68 error = 0.32\n",
      "thirty five                 =>  39.62 error = 4.62\n",
      "one hundred seventy eight   =>  178.39 error = 0.39\n",
      "eighty four                 =>  87.47 error = 3.47\n",
      "one hundred fifty two       =>  151.70 error = 0.30\n",
      "one hundred seventy four    =>  180.44 error = 6.44\n",
      "one hundred eighty one      =>  179.45 error = 1.55\n",
      "one hundred thirty eight    =>  143.95 error = 5.95\n",
      "Mean error = 4.2018995\n",
      "\n",
      "7/10 Epochs: 1800 - loss= 0.435, loss improvement= 0.630\n",
      "text => [predicted value] error=[error]\n",
      "one hundred eighty four     =>  185.38 error = 1.38\n",
      "one hundred                 =>  99.97 error = 0.03\n",
      "one hundred ninety seven    =>  192.04 error = 4.96\n",
      "one hundred fourteen        =>  127.69 error = 13.69\n",
      "one hundred sixty eight     =>  173.63 error = 5.63\n",
      "one hundred sixty six       =>  169.34 error = 3.34\n",
      "one hundred fifty three     =>  152.09 error = 0.91\n",
      "one hundred twenty          =>  114.89 error = 5.11\n",
      "seventy six                 =>  75.25 error = 0.75\n",
      "eighty three                =>  83.25 error = 0.25\n",
      "Mean error = 4.233725\n",
      "\n",
      "8/10 Epochs: 1900 - loss= 0.919, loss improvement=-0.488\n",
      "text => [predicted value] error=[error]\n",
      "fifty one                   =>  86.05 error = 35.05\n",
      "thirty five                 =>  38.81 error = 3.81\n",
      "sixty four                  =>  63.88 error = 0.12\n",
      "one hundred fifty two       =>  153.11 error = 1.11\n",
      "twenty eight                =>  29.68 error = 1.68\n",
      "eighty eight                =>  88.20 error = 0.20\n",
      "six                         =>  6.16 error = 0.16\n",
      "one hundred fifteen         =>  114.52 error = 0.48\n",
      "ten                         =>  9.75 error = 0.25\n",
      "sixty seven                 =>  62.37 error = 4.63\n",
      "Mean error = 4.122627\n",
      "\n",
      "9/10 Epochs: 2000 - loss= 1.059, loss improvement=-0.128\n",
      "text => [predicted value] error=[error]\n",
      "sixteen                     =>  57.29 error = 41.29\n",
      "eighteen                    =>  33.35 error = 15.35\n",
      "one hundred seventy six     =>  178.86 error = 2.86\n",
      "one hundred four            =>  103.95 error = 0.05\n",
      "one hundred sixty nine      =>  164.71 error = 4.29\n",
      "sixty nine                  =>  63.53 error = 5.47\n",
      "fifty eight                 =>  68.52 error = 10.52\n",
      "one hundred forty five      =>  144.21 error = 0.79\n",
      "one hundred fourteen        =>  127.82 error = 13.82\n",
      "seventy seven               =>  77.40 error = 0.40\n",
      "Mean error = 4.392348\n",
      "Done\n"
     ]
    }
   ],
   "source": [
    "EPOCHS=100\n",
    "BATCH_SIZE = int(len(trainSamples)/4)\n",
    "print('Training with',len(trainSamples),'samples',EPOCHS,'epochs and batch_size=',BATCH_SIZE)\n",
    "for x in range(10):\n",
    "    H = model.fit(trainSamples, trainLabels, epochs=EPOCHS,verbose=0,batch_size=BATCH_SIZE)\n",
    "    num_epochs += EPOCHS\n",
    "    print(\"\\n{}/10 Epochs: {} - loss={:6.3f}, loss improvement={:6.3f}\".\n",
    "          format(x, num_epochs,H.history['loss'][-1], H.history['loss'][0]-H.history['loss'][-1]))\n",
    "    check_model()\n",
    "print(\"Done\")"
   ]
  },
  {
   "cell_type": "code",
   "execution_count": 18,
   "metadata": {},
   "outputs": [
    {
     "name": "stdout",
     "output_type": "stream",
     "text": [
      "text => [predicted value] error=[error]\n",
      "0 zero                        => 0.10 error = 0.10 [T]\n",
      "1 one                         => 1.19 error = 0.19 [T]\n",
      "2 two                         => 1.96 error = 0.04 [T]\n",
      "3 three                       => 2.98 error = 0.02 [T]\n",
      "4 four                        => 8.33 error = 4.33 \n",
      "5 five                        => 7.55 error = 2.55 \n",
      "6 six                         => 6.06 error = 0.06 [T]\n",
      "7 seven                       => 6.92 error = 0.08 [T]\n",
      "8 eight                       => 7.91 error = 0.09 [T]\n",
      "9 nine                        => 9.07 error = 0.07 [T]\n",
      "10 ten                         => 10.36 error = 0.36 [T]\n",
      "11 eleven                      => 14.01 error = 3.01 \n",
      "12 twelve                      => 10.02 error = 1.98 \n",
      "13 thirteen                    => 26.89 error = 13.89 \n",
      "14 fourteen                    => 46.07 error = 32.07 \n",
      "15 fifteen                     => 14.69 error = 0.31 [T]\n",
      "16 sixteen                     => 57.29 error = 41.29 \n",
      "17 seventeen                   => 72.40 error = 55.40 \n",
      "18 eighteen                    => 33.35 error = 15.35 \n",
      "19 nineteen                    => 32.83 error = 13.83 \n",
      "20 twenty                      => 20.07 error = 0.07 [T]\n",
      "21 twenty one                  => 21.27 error = 0.27 [T]\n",
      "22 twenty two                  => 22.27 error = 0.27 [T]\n",
      "23 twenty three                => 23.02 error = 0.02 [T]\n",
      "24 twenty four                 => 23.98 error = 0.02 [T]\n",
      "25 twenty five                 => 25.36 error = 0.36 [T]\n",
      "26 twenty six                  => 25.73 error = 0.27 [T]\n",
      "27 twenty seven                => 23.49 error = 3.51 \n",
      "28 twenty eight                => 30.74 error = 2.74 \n",
      "29 twenty nine                 => 22.34 error = 6.66 \n",
      "30 thirty                      => 30.02 error = 0.02 [T]\n",
      "31 thirty one                  => 29.50 error = 1.50 \n",
      "32 thirty two                  => 32.20 error = 0.20 [T]\n",
      "33 thirty three                => 31.66 error = 1.34 \n",
      "34 thirty four                 => 40.89 error = 6.89 \n",
      "35 thirty five                 => 40.57 error = 5.57 \n",
      "36 thirty six                  => 32.85 error = 3.15 \n",
      "37 thirty seven                => 37.71 error = 0.71 [T]\n",
      "38 thirty eight                => 48.39 error = 10.39 \n",
      "39 thirty nine                 => 32.21 error = 6.79 \n",
      "40 forty                       => 34.92 error = 5.08 \n",
      "41 forty one                   => 40.93 error = 0.07 [T]\n",
      "42 forty two                   => 48.50 error = 6.50 \n",
      "43 forty three                 => 43.33 error = 0.33 [T]\n",
      "44 forty four                  => 60.43 error = 16.43 \n",
      "45 forty five                  => 54.22 error = 9.22 \n",
      "46 forty six                   => 45.48 error = 0.52 [T]\n",
      "47 forty seven                 => 52.39 error = 5.39 \n",
      "48 forty eight                 => 60.31 error = 12.31 \n",
      "49 forty nine                  => 49.59 error = 0.59 [T]\n",
      "50 fifty                       => 49.38 error = 0.62 [T]\n",
      "51 fifty one                   => 84.66 error = 33.66 \n",
      "52 fifty two                   => 53.12 error = 1.12 [T]\n",
      "53 fifty three                 => 74.19 error = 21.19 \n",
      "54 fifty four                  => 83.04 error = 29.04 \n",
      "55 fifty five                  => 55.75 error = 0.75 [T]\n",
      "56 fifty six                   => 55.00 error = 1.00 \n",
      "57 fifty seven                 => 59.17 error = 2.17 [T]\n",
      "58 fifty eight                 => 68.52 error = 10.52 \n",
      "59 fifty nine                  => 75.14 error = 16.14 \n",
      "60 sixty                       => 60.36 error = 0.36 [T]\n",
      "61 sixty one                   => 60.52 error = 0.48 [T]\n",
      "62 sixty two                   => 61.94 error = 0.06 [T]\n",
      "63 sixty three                 => 63.19 error = 0.19 [T]\n",
      "64 sixty four                  => 63.82 error = 0.18 [T]\n",
      "65 sixty five                  => 65.25 error = 0.25 [T]\n",
      "66 sixty six                   => 62.15 error = 3.85 \n",
      "67 sixty seven                 => 62.31 error = 4.69 \n",
      "68 sixty eight                 => 68.36 error = 0.36 [T]\n",
      "69 sixty nine                  => 63.53 error = 5.47 \n",
      "70 seventy                     => 72.07 error = 2.07 [T]\n",
      "71 seventy one                 => 74.10 error = 3.10 [T]\n",
      "72 seventy two                 => 73.80 error = 1.80 [T]\n",
      "73 seventy three               => 79.03 error = 6.03 \n",
      "74 seventy four                => 74.58 error = 0.58 [T]\n",
      "75 seventy five                => 77.44 error = 2.44 [T]\n",
      "76 seventy six                 => 77.15 error = 1.15 [T]\n",
      "77 seventy seven               => 77.40 error = 0.40 [T]\n",
      "78 seventy eight               => 77.71 error = 0.29 \n",
      "79 seventy nine                => 79.15 error = 0.15 [T]\n",
      "80 eighty                      => 81.43 error = 1.43 [T]\n",
      "81 eighty one                  => 63.45 error = 17.55 \n",
      "82 eighty two                  => 86.66 error = 4.66 \n",
      "83 eighty three                => 84.25 error = 1.25 [T]\n",
      "84 eighty four                 => 88.16 error = 4.16 \n",
      "85 eighty five                 => 86.01 error = 1.01 [T]\n",
      "86 eighty six                  => 86.88 error = 0.88 [T]\n",
      "87 eighty seven                => 87.75 error = 0.75 [T]\n",
      "88 eighty eight                => 88.82 error = 0.82 [T]\n",
      "89 eighty nine                 => 82.10 error = 6.90 \n",
      "90 ninety                      => 62.75 error = 27.25 \n",
      "91 ninety one                  => 93.88 error = 2.88 [T]\n",
      "92 ninety two                  => 94.19 error = 2.19 [T]\n",
      "93 ninety three                => 96.58 error = 3.58 \n",
      "94 ninety four                 => 85.05 error = 8.95 \n",
      "95 ninety five                 => 98.84 error = 3.84 \n",
      "96 ninety six                  => 97.51 error = 1.51 [T]\n",
      "97 ninety seven                => 85.92 error = 11.08 \n",
      "98 ninety eight                => 101.06 error = 3.06 \n",
      "99 ninety nine                 => 99.41 error = 0.41 \n",
      "100 one hundred                 => 101.77 error = 1.77 [T]\n",
      "101 one hundred one             => 101.45 error = 0.45 [T]\n",
      "102 one hundred two             => 105.80 error = 3.80 \n",
      "103 one hundred three           => 115.51 error = 12.51 \n",
      "104 one hundred four            => 103.95 error = 0.05 [T]\n",
      "105 one hundred five            => 106.86 error = 1.86 \n",
      "106 one hundred six             => 105.54 error = 0.46 \n",
      "107 one hundred seven           => 109.12 error = 2.12 \n",
      "108 one hundred eight           => 109.39 error = 1.39 \n",
      "109 one hundred nine            => 109.45 error = 0.45 [T]\n",
      "110 one hundred ten             => 101.09 error = 8.91 \n",
      "111 one hundred eleven          => 111.13 error = 0.13 [T]\n",
      "112 one hundred twelve          => 111.81 error = 0.19 [T]\n",
      "113 one hundred thirteen        => 124.48 error = 11.48 \n",
      "114 one hundred fourteen        => 127.82 error = 13.82 \n",
      "115 one hundred fifteen         => 114.64 error = 0.36 [T]\n",
      "116 one hundred sixteen         => 133.45 error = 17.45 \n",
      "117 one hundred seventeen       => 143.86 error = 26.86 \n",
      "118 one hundred eighteen        => 134.03 error = 16.03 \n",
      "119 one hundred nineteen        => 144.85 error = 25.85 \n",
      "120 one hundred twenty          => 114.46 error = 5.54 \n",
      "121 one hundred twenty one      => 121.11 error = 0.11 [T]\n",
      "122 one hundred twenty two      => 130.05 error = 8.05 \n",
      "123 one hundred twenty three    => 123.72 error = 0.72 \n",
      "124 one hundred twenty four     => 133.64 error = 9.64 \n",
      "125 one hundred twenty five     => 124.99 error = 0.01 [T]\n",
      "126 one hundred twenty six      => 126.07 error = 0.07 [T]\n",
      "127 one hundred twenty seven    => 126.16 error = 0.84 \n",
      "128 one hundred twenty eight    => 127.47 error = 0.53 [T]\n",
      "129 one hundred twenty nine     => 129.19 error = 0.19 [T]\n",
      "130 one hundred thirty          => 128.44 error = 1.56 [T]\n",
      "131 one hundred thirty one      => 130.85 error = 0.15 [T]\n",
      "132 one hundred thirty two      => 132.74 error = 0.74 \n",
      "133 one hundred thirty three    => 131.62 error = 1.38 [T]\n",
      "134 one hundred thirty four     => 134.19 error = 0.19 [T]\n",
      "135 one hundred thirty five     => 133.90 error = 1.10 [T]\n",
      "136 one hundred thirty six      => 131.32 error = 4.68 \n",
      "137 one hundred thirty seven    => 135.30 error = 1.70 [T]\n",
      "138 one hundred thirty eight    => 142.80 error = 4.80 \n",
      "139 one hundred thirty nine     => 137.55 error = 1.45 [T]\n",
      "140 one hundred forty           => 138.98 error = 1.02 [T]\n",
      "141 one hundred forty one       => 140.02 error = 0.98 [T]\n",
      "142 one hundred forty two       => 139.25 error = 2.75 [T]\n",
      "143 one hundred forty three     => 142.03 error = 0.97 [T]\n",
      "144 one hundred forty four      => 141.79 error = 2.21 [T]\n",
      "145 one hundred forty five      => 144.21 error = 0.79 [T]\n",
      "146 one hundred forty six       => 143.21 error = 2.79 [T]\n",
      "147 one hundred forty seven     => 145.00 error = 2.00 [T]\n",
      "148 one hundred forty eight     => 154.00 error = 6.00 \n",
      "149 one hundred forty nine      => 146.59 error = 2.41 [T]\n",
      "150 one hundred fifty           => 149.98 error = 0.02 [T]\n",
      "151 one hundred fifty one       => 151.03 error = 0.03 [T]\n",
      "152 one hundred fifty two       => 151.50 error = 0.50 [T]\n",
      "153 one hundred fifty three     => 151.92 error = 1.08 \n",
      "154 one hundred fifty four      => 154.36 error = 0.36 \n",
      "155 one hundred fifty five      => 155.08 error = 0.08 [T]\n",
      "156 one hundred fifty six       => 155.97 error = 0.03 [T]\n",
      "157 one hundred fifty seven     => 156.29 error = 0.71 [T]\n",
      "158 one hundred fifty eight     => 161.28 error = 3.28 \n",
      "159 one hundred fifty nine      => 154.10 error = 4.90 \n",
      "160 one hundred sixty           => 156.56 error = 3.44 [T]\n",
      "161 one hundred sixty one       => 157.95 error = 3.05 \n",
      "162 one hundred sixty two       => 161.37 error = 0.63 \n",
      "163 one hundred sixty three     => 159.24 error = 3.76 [T]\n",
      "164 one hundred sixty four      => 160.61 error = 3.39 [T]\n",
      "165 one hundred sixty five      => 160.72 error = 4.28 \n",
      "166 one hundred sixty six       => 164.55 error = 1.45 \n",
      "167 one hundred sixty seven     => 163.08 error = 3.92 [T]\n",
      "168 one hundred sixty eight     => 169.61 error = 1.61 \n",
      "169 one hundred sixty nine      => 164.71 error = 4.29 [T]\n",
      "170 one hundred seventy         => 166.79 error = 3.21 [T]\n",
      "171 one hundred seventy one     => 168.59 error = 2.41 \n",
      "172 one hundred seventy two     => 182.54 error = 10.54 \n",
      "173 one hundred seventy three   => 172.40 error = 0.60 \n",
      "174 one hundred seventy four    => 178.12 error = 4.12 \n",
      "175 one hundred seventy five    => 171.78 error = 3.22 [T]\n",
      "176 one hundred seventy six     => 178.86 error = 2.86 \n",
      "177 one hundred seventy seven   => 178.65 error = 1.65 \n",
      "178 one hundred seventy eight   => 175.90 error = 2.10 [T]\n",
      "179 one hundred seventy nine    => 171.92 error = 7.08 \n",
      "180 one hundred eighty          => 179.60 error = 0.40 [T]\n",
      "181 one hundred eighty one      => 179.53 error = 1.47 \n",
      "182 one hundred eighty two      => 180.59 error = 1.41 [T]\n",
      "183 one hundred eighty three    => 180.73 error = 2.27 \n",
      "184 one hundred eighty four     => 183.57 error = 0.43 \n",
      "185 one hundred eighty five     => 182.83 error = 2.17 \n",
      "186 one hundred eighty six      => 184.91 error = 1.09 \n",
      "187 one hundred eighty seven    => 185.84 error = 1.16 \n",
      "188 one hundred eighty eight    => 187.38 error = 0.62 [T]\n",
      "189 one hundred eighty nine     => 181.94 error = 7.06 \n",
      "190 one hundred ninety          => 188.44 error = 1.56 [T]\n",
      "191 one hundred ninety one      => 190.79 error = 0.21 \n",
      "192 one hundred ninety two      => 192.19 error = 0.19 [T]\n",
      "193 one hundred ninety three    => 192.09 error = 0.91 \n",
      "194 one hundred ninety four     => 192.98 error = 1.02 \n",
      "195 one hundred ninety five     => 192.86 error = 2.14 \n",
      "196 one hundred ninety six      => 193.15 error = 2.85 [T]\n",
      "197 one hundred ninety seven    => 193.31 error = 3.69 \n",
      "198 one hundred ninety eight    => 193.18 error = 4.82 \n",
      "199 one hundred ninety nine     => 192.41 error = 6.59 \n",
      "Mean error = 4.392348\n"
     ]
    },
    {
     "data": {
      "text/plain": [
       "4.392348"
      ]
     },
     "execution_count": 18,
     "metadata": {},
     "output_type": "execute_result"
    }
   ],
   "source": [
    "import random\n",
    "\n",
    "def check_model(verbose=0,how_many=10):\n",
    "    pred = model.predict(samples)\n",
    "    print('text => [predicted value] error=[error]')\n",
    "    error = []\n",
    "    for i in range(len(pred)):\n",
    "        res = samples[i]\n",
    "        error.append(abs(i-pred[i]))\n",
    "        if verbose==1:\n",
    "            train = ''\n",
    "            if i in trainLabels: train='[T]'\n",
    "            print(i,to_text(res),'=> {:.2f} error = {:.2f}'.format(pred[i,0],abs(i-pred[i,0])),train)\n",
    "    if verbose<1: # if not verbose just display 'how_many' random samples\n",
    "        for i in range(how_many):        \n",
    "            x = random.randrange(DATASET_SIZE)\n",
    "            res = samples[x]\n",
    "            print(to_text(res),'=>  {:.2f} error = {:.2f}'.format(pred[x,0],abs(x-pred[x,0])))      \n",
    "    print('Mean error =',np.mean(error))        \n",
    "    return np.mean(error)\n",
    "check_model(1)"
   ]
  },
  {
   "cell_type": "code",
   "execution_count": 27,
   "metadata": {},
   "outputs": [
    {
     "data": {
      "text/plain": [
       "array([[-15.577038]], dtype=float32)"
      ]
     },
     "execution_count": 27,
     "metadata": {},
     "output_type": "execute_result"
    }
   ],
   "source": [
    "\n",
    "#x = to_number('one hundred thirty nine      ')\n",
    "#x = to_number('one hundred ninety nine     ')\n",
    "x = to_number('one                               ')\n",
    "\n",
    "#              xxxxxxxxxxxxxxxxxxxxxxxxxxxxx\n",
    "x = np.expand_dims(x,axis=1)\n",
    "x = np.expand_dims(x,axis=0)\n",
    "model.predict(x)"
   ]
  },
  {
   "cell_type": "code",
   "execution_count": null,
   "metadata": {},
   "outputs": [],
   "source": [
    "model.save('model_words2numbers.h5')"
   ]
  }
 ],
 "metadata": {
  "kernelspec": {
   "display_name": "Python 3",
   "language": "python",
   "name": "python3"
  },
  "language_info": {
   "codemirror_mode": {
    "name": "ipython",
    "version": 3
   },
   "file_extension": ".py",
   "mimetype": "text/x-python",
   "name": "python",
   "nbconvert_exporter": "python",
   "pygments_lexer": "ipython3",
   "version": "3.8.5"
  }
 },
 "nbformat": 4,
 "nbformat_minor": 4
}
