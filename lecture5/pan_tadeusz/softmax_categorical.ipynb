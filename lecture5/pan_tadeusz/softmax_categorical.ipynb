{
 "cells": [
  {
   "cell_type": "markdown",
   "metadata": {},
   "source": [
    "# Logit and temperature examples"
   ]
  },
  {
   "cell_type": "markdown",
   "metadata": {},
   "source": [
    "## Softmax function properties\n",
    "\n",
    "The function converts a list of values into probabilities but uses e^x"
   ]
  },
  {
   "cell_type": "code",
   "execution_count": 2,
   "metadata": {},
   "outputs": [
    {
     "name": "stdout",
     "output_type": "stream",
     "text": [
      "[1 2 3]\n",
      "[0.09003057 0.24472847 0.66524096]\n",
      "[0.16666667 0.33333333 0.5       ]\n",
      "\n",
      "[2 4 6]\n",
      "[0.01587624 0.11731043 0.86681333]  <- multiplication makes distribution \"stronger\"\n",
      "[0.16666667 0.33333333 0.5       ]  <- log maintains proportions (normalize)\n",
      "\n",
      "[0.5 1.  1.5]\n",
      "[0.18632372 0.30719589 0.50648039]  <- division makes distribution \"weaker\"\n",
      "[0.16666667 0.33333333 0.5       ]  <- log maintains proportions\n"
     ]
    }
   ],
   "source": [
    "import numpy as np\n",
    "def softmax(x):\n",
    "    return np.exp(x) / np.sum(np.exp(x), axis=0)\n",
    "\n",
    "a = np.array([1,2,3])\n",
    "print(a)\n",
    "print(softmax(a))\n",
    "print(softmax(np.log(a))) \n",
    "print()\n",
    "b=a*2\n",
    "print(b)\n",
    "print(softmax(b),' <- multiplication makes distribution \"stronger\"')\n",
    "print(softmax(np.log(b)),' <- log maintains proportions (normalize)')\n",
    "print()\n",
    "c=a*0.5\n",
    "print(c)\n",
    "print(softmax(c),' <- division makes distribution \"weaker\"')\n",
    "print(softmax(np.log(c)),' <- log maintains proportions')\n"
   ]
  },
  {
   "cell_type": "markdown",
   "metadata": {},
   "source": [
    "## Usage of tf.categorical"
   ]
  },
  {
   "cell_type": "code",
   "execution_count": 3,
   "metadata": {},
   "outputs": [
    {
     "name": "stdout",
     "output_type": "stream",
     "text": [
      "[[0.    0.125 0.25  0.5  ]]\n",
      "tf.Tensor([[1 0 3 1 3 2 0 1 3 2 3 0 3 0 1 3 3 0 3 2 0 2 1 2 3 3 3 2 2 0]], shape=(1, 30), dtype=int64)\n",
      "[[0.   0.25 0.5  1.  ]]\n",
      "tf.Tensor([[1 2 3 3 3 3 3 0 3 0 3 1 1 3 2 2 2 1 3 2 1 3 2 3 2 3 2 3 3 2]], shape=(1, 30), dtype=int64)\n",
      "[[0.  0.5 1.  2. ]]\n",
      "tf.Tensor([[2 2 3 2 1 2 3 3 2 2 3 3 2 3 3 3 1 3 3 3 3 3 3 3 2 3 2 3 3 2]], shape=(1, 30), dtype=int64)\n",
      "[[0. 1. 2. 4.]]\n",
      "tf.Tensor([[3 3 2 3 3 2 3 3 3 3 3 3 3 3 2 3 3 3 3 3 3 3 3 2 3 3 3 3 3 0]], shape=(1, 30), dtype=int64)\n",
      "[[0. 2. 4. 8.]]\n",
      "tf.Tensor([[3 3 3 3 3 3 3 3 3 3 3 3 3 3 3 3 3 3 3 3 1 3 3 3 3 3 3 3 3 3]], shape=(1, 30), dtype=int64)\n",
      "[[ 0.  4.  8. 16.]]\n",
      "tf.Tensor([[3 3 3 3 3 3 3 3 3 3 3 3 3 3 3 3 3 3 3 3 3 3 3 3 3 3 3 3 3 3]], shape=(1, 30), dtype=int64)\n"
     ]
    }
   ],
   "source": [
    "import tensorflow as tf\n",
    "import numpy as np\n",
    "\n",
    "# initial distrobution\n",
    "a = np.array([[0,0.125,0.25,0.5]])\n",
    "for i in range(6):\n",
    "    print(a)\n",
    "    # 30 numbers sampled using the given distribution\n",
    "    x = tf.random.categorical(a, num_samples=30)\n",
    "    # when numbers are bigger more '3' and less '0'\n",
    "    print(x)\n",
    "    a = a*2"
   ]
  }
 ],
 "metadata": {
  "kernelspec": {
   "display_name": "Python 3",
   "language": "python",
   "name": "python3"
  },
  "language_info": {
   "codemirror_mode": {
    "name": "ipython",
    "version": 3
   },
   "file_extension": ".py",
   "mimetype": "text/x-python",
   "name": "python",
   "nbconvert_exporter": "python",
   "pygments_lexer": "ipython3",
   "version": "3.8.5"
  }
 },
 "nbformat": 4,
 "nbformat_minor": 4
}
