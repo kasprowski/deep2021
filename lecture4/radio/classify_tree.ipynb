{
 "cells": [
  {
   "cell_type": "code",
   "execution_count": 1,
   "metadata": {},
   "outputs": [],
   "source": [
    "'''\n",
    "Classification of \"radio\" samples using DecisionTree\n",
    "Script loads data from /radio folder and classifies all samples as:\n",
    "L - layman\n",
    "R - resident\n",
    "S - radiology specialist  \n",
    "\n",
    "@author: pawel@kasprowski.pl\n",
    "'''\n",
    "import loader\n",
    "\n",
    "from sklearn.metrics import classification_report,confusion_matrix,accuracy_score, cohen_kappa_score\n",
    "from sklearn.model_selection import train_test_split\n",
    "from sklearn.preprocessing import LabelBinarizer\n",
    "from sklearn.tree import DecisionTreeClassifier"
   ]
  },
  {
   "cell_type": "code",
   "execution_count": 3,
   "metadata": {},
   "outputs": [
    {
     "name": "stdout",
     "output_type": "stream",
     "text": [
      "shape = (611, 700, 5)\n",
      "Classes: 3\n",
      "[[12  5 19]\n",
      " [ 5 23 23]\n",
      " [ 8 25 33]]\n",
      "              precision    recall  f1-score   support\n",
      "\n",
      "           0       0.48      0.33      0.39        36\n",
      "           1       0.43      0.45      0.44        51\n",
      "           2       0.44      0.50      0.47        66\n",
      "\n",
      "    accuracy                           0.44       153\n",
      "   macro avg       0.45      0.43      0.43       153\n",
      "weighted avg       0.45      0.44      0.44       153\n",
      "\n",
      "Accuracy Tree: 0.44\n",
      "Cohen's Kappa 0.12\n"
     ]
    }
   ],
   "source": [
    "samples,labels,_ = loader.load_files(\"radio\",700)\n",
    "print(\"shape = {}\".format(samples.shape))\n",
    "    \n",
    "#flatten\n",
    "samples = samples.reshape(-1,samples.shape[1]*samples.shape[2])\n",
    "\n",
    "#one-hot encoding\n",
    "lb = LabelBinarizer()\n",
    "labels = lb.fit_transform(labels)\n",
    "classesNum = labels.shape[1]\n",
    "print (\"Classes: {}\".format(classesNum))\n",
    " \n",
    "#split to training and test\n",
    "(trainSamples, testSamples, trainLabels, testLabels) = train_test_split(samples, labels, test_size=0.25, random_state=42)\n",
    "   \n",
    "model = DecisionTreeClassifier()\n",
    "model.fit(trainSamples, trainLabels)    \n",
    "treeResults = model.predict(testSamples)\n",
    "print(confusion_matrix(testLabels.argmax(axis=1), treeResults.argmax(axis=1)))\n",
    "print(classification_report(testLabels.argmax(axis=1), treeResults.argmax(axis=1)))\n",
    "treeAcc = accuracy_score(testLabels.argmax(axis=1), treeResults.argmax(axis=1)) \n",
    "print(\"Accuracy Tree: {:.2f}\".format(treeAcc))\n",
    "print(\"Cohen's Kappa {:.2f}\".format(cohen_kappa_score(testLabels.argmax(axis=1), treeResults.argmax(axis=1))))"
   ]
  }
 ],
 "metadata": {
  "kernelspec": {
   "display_name": "Python 3",
   "language": "python",
   "name": "python3"
  },
  "language_info": {
   "codemirror_mode": {
    "name": "ipython",
    "version": 3
   },
   "file_extension": ".py",
   "mimetype": "text/x-python",
   "name": "python",
   "nbconvert_exporter": "python",
   "pygments_lexer": "ipython3",
   "version": "3.8.5"
  }
 },
 "nbformat": 4,
 "nbformat_minor": 4
}
