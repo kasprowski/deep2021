{
 "cells": [
  {
   "cell_type": "markdown",
   "metadata": {},
   "source": [
    "# Uses data from both images and a flat csv file to classify samples\n",
    "### Loads data using loader.py\n",
    "\n",
    "@author: pawel@ksasprowski.pl"
   ]
  },
  {
   "cell_type": "code",
   "execution_count": 1,
   "metadata": {},
   "outputs": [
    {
     "name": "stderr",
     "output_type": "stream",
     "text": [
      "C:\\programs\\miniconda3\\envs\\deep\\lib\\site-packages\\sklearn\\utils\\deprecation.py:143: FutureWarning: The sklearn.metrics.classification module is  deprecated in version 0.22 and will be removed in version 0.24. The corresponding classes / functions should instead be imported from sklearn.metrics. Anything that cannot be imported from sklearn.metrics is now part of the private API.\n",
      "  warnings.warn(message, FutureWarning)\n",
      "C:\\programs\\miniconda3\\envs\\deep\\lib\\site-packages\\sklearn\\utils\\deprecation.py:143: FutureWarning: The sklearn.preprocessing.label module is  deprecated in version 0.22 and will be removed in version 0.24. The corresponding classes / functions should instead be imported from sklearn.preprocessing. Anything that cannot be imported from sklearn.preprocessing is now part of the private API.\n",
      "  warnings.warn(message, FutureWarning)\n"
     ]
    }
   ],
   "source": [
    "    \n",
    "import loader\n",
    "\n",
    "from sklearn.metrics.classification import classification_report, accuracy_score, cohen_kappa_score\n",
    "from sklearn.metrics import confusion_matrix\n",
    "\n",
    "from sklearn.preprocessing.label import LabelBinarizer\n",
    "from tensorflow.python.keras.models import Model\n",
    "\n",
    "import numpy as np\n",
    "from tensorflow.keras.layers import Activation\n",
    "from tensorflow.keras.layers import Conv2D\n",
    "from tensorflow.keras.layers import Dense\n",
    "from tensorflow.keras.layers import Dropout\n",
    "from tensorflow.keras.layers import Flatten\n",
    "from tensorflow.keras.layers import MaxPooling2D\n",
    "from tensorflow.keras.layers import concatenate\n",
    "from tensorflow.keras.models import Sequential"
   ]
  },
  {
   "cell_type": "markdown",
   "metadata": {},
   "source": [
    "### Load data"
   ]
  },
  {
   "cell_type": "code",
   "execution_count": 2,
   "metadata": {},
   "outputs": [],
   "source": [
    "samplesIMG,labels,namesIMG = loader.load_img(\"radio_img\")\n",
    "samplesCSV,labelsCSV,namesCSV = loader.load_csv(\"radio.csv\")"
   ]
  },
  {
   "cell_type": "markdown",
   "metadata": {},
   "source": [
    "### Find pairs for samplesIMG in samplesCSV"
   ]
  },
  {
   "cell_type": "code",
   "execution_count": 3,
   "metadata": {},
   "outputs": [
    {
     "name": "stdout",
     "output_type": "stream",
     "text": [
      "Paired\n",
      "Samples IMG: 611\n",
      "Samples CSV: 611\n"
     ]
    }
   ],
   "source": [
    "samples_paired = []\n",
    "for i in range(samplesIMG.shape[0]):\n",
    "    for j in range(samplesCSV.shape[0]):\n",
    "        if namesCSV[j]==namesIMG[i]:\n",
    "            samples_paired.append(samplesCSV[j])\n",
    "            \n",
    "samplesCSV = np.array(samples_paired)\n",
    "samplesIMG = np.expand_dims(samplesIMG, axis=3)\n",
    "\n",
    "print(\"Paired\")\n",
    "print(\"Samples IMG: {}\".format(len(samplesIMG)))\n",
    "print(\"Samples CSV: {}\".format(len(samplesCSV)))"
   ]
  },
  {
   "cell_type": "markdown",
   "metadata": {},
   "source": [
    "### One-hot encoding"
   ]
  },
  {
   "cell_type": "code",
   "execution_count": 4,
   "metadata": {},
   "outputs": [],
   "source": [
    "lb = LabelBinarizer()\n",
    "labels = lb.fit_transform(labels)"
   ]
  },
  {
   "cell_type": "markdown",
   "metadata": {},
   "source": [
    "### Shapes"
   ]
  },
  {
   "cell_type": "code",
   "execution_count": 5,
   "metadata": {},
   "outputs": [],
   "source": [
    "numClasses = labels.shape[1]\n",
    "inputShape = (108,192,1) #samplesIMG.shape"
   ]
  },
  {
   "cell_type": "markdown",
   "metadata": {},
   "source": [
    "### Model for images"
   ]
  },
  {
   "cell_type": "code",
   "execution_count": 6,
   "metadata": {},
   "outputs": [],
   "source": [
    "cnnmodel = Sequential()\n",
    "cnnmodel.add(Conv2D(16, (3, 3), padding=\"same\",input_shape=inputShape))\n",
    "cnnmodel.add(Activation(\"relu\"))\n",
    "cnnmodel.add(MaxPooling2D(pool_size=(2, 2)))\n",
    "cnnmodel.add(Conv2D(32, (3, 3), padding=\"same\"))\n",
    "cnnmodel.add(Activation(\"relu\"))\n",
    "cnnmodel.add(MaxPooling2D(pool_size=(2, 2)))\n",
    "cnnmodel.add(Dropout(0.25))\n",
    "cnnmodel.add(Flatten())\n",
    "cnnmodel.add(Dense(16))\n",
    "cnnmodel.add(Activation(\"relu\"))"
   ]
  },
  {
   "cell_type": "markdown",
   "metadata": {},
   "source": [
    "### Model for features (CSV)"
   ]
  },
  {
   "cell_type": "code",
   "execution_count": 7,
   "metadata": {},
   "outputs": [],
   "source": [
    "flatmodel = Sequential()\n",
    "flatmodel.add(Flatten(input_shape=(14,)))\n",
    "flatmodel.add(Dense(50, activation='sigmoid'))"
   ]
  },
  {
   "cell_type": "markdown",
   "metadata": {},
   "source": [
    "### Concatenated model"
   ]
  },
  {
   "cell_type": "code",
   "execution_count": 8,
   "metadata": {},
   "outputs": [
    {
     "name": "stdout",
     "output_type": "stream",
     "text": [
      "Model: \"functional_1\"\n",
      "__________________________________________________________________________________________________\n",
      "Layer (type)                    Output Shape         Param #     Connected to                     \n",
      "==================================================================================================\n",
      "conv2d_input (InputLayer)       [(None, 108, 192, 1) 0                                            \n",
      "__________________________________________________________________________________________________\n",
      "conv2d (Conv2D)                 (None, 108, 192, 16) 160         conv2d_input[0][0]               \n",
      "__________________________________________________________________________________________________\n",
      "activation (Activation)         (None, 108, 192, 16) 0           conv2d[0][0]                     \n",
      "__________________________________________________________________________________________________\n",
      "max_pooling2d (MaxPooling2D)    (None, 54, 96, 16)   0           activation[0][0]                 \n",
      "__________________________________________________________________________________________________\n",
      "conv2d_1 (Conv2D)               (None, 54, 96, 32)   4640        max_pooling2d[0][0]              \n",
      "__________________________________________________________________________________________________\n",
      "activation_1 (Activation)       (None, 54, 96, 32)   0           conv2d_1[0][0]                   \n",
      "__________________________________________________________________________________________________\n",
      "max_pooling2d_1 (MaxPooling2D)  (None, 27, 48, 32)   0           activation_1[0][0]               \n",
      "__________________________________________________________________________________________________\n",
      "dropout (Dropout)               (None, 27, 48, 32)   0           max_pooling2d_1[0][0]            \n",
      "__________________________________________________________________________________________________\n",
      "flatten (Flatten)               (None, 41472)        0           dropout[0][0]                    \n",
      "__________________________________________________________________________________________________\n",
      "flatten_1_input (InputLayer)    [(None, 14)]         0                                            \n",
      "__________________________________________________________________________________________________\n",
      "dense (Dense)                   (None, 16)           663568      flatten[0][0]                    \n",
      "__________________________________________________________________________________________________\n",
      "flatten_1 (Flatten)             (None, 14)           0           flatten_1_input[0][0]            \n",
      "__________________________________________________________________________________________________\n",
      "activation_2 (Activation)       (None, 16)           0           dense[0][0]                      \n",
      "__________________________________________________________________________________________________\n",
      "dense_1 (Dense)                 (None, 50)           750         flatten_1[0][0]                  \n",
      "__________________________________________________________________________________________________\n",
      "concatenate (Concatenate)       (None, 66)           0           activation_2[0][0]               \n",
      "                                                                 dense_1[0][0]                    \n",
      "__________________________________________________________________________________________________\n",
      "dense_2 (Dense)                 (None, 16)           1072        concatenate[0][0]                \n",
      "__________________________________________________________________________________________________\n",
      "dense_3 (Dense)                 (None, 3)            51          dense_2[0][0]                    \n",
      "==================================================================================================\n",
      "Total params: 670,241\n",
      "Trainable params: 670,241\n",
      "Non-trainable params: 0\n",
      "__________________________________________________________________________________________________\n",
      "None\n"
     ]
    }
   ],
   "source": [
    "combined = concatenate([cnnmodel.output, flatmodel.output])\n",
    "combined = Dense(16, activation=\"sigmoid\")(combined)\n",
    "combined = Dense(numClasses, activation=\"sigmoid\")(combined)\n",
    "\n",
    "model = Model(inputs=[cnnmodel.input, flatmodel.input], outputs=combined)\n",
    "\n",
    "print(model.summary())\n",
    "\n",
    "model.compile(loss='categorical_crossentropy', optimizer=\"adam\",metrics=['accuracy'])"
   ]
  },
  {
   "cell_type": "markdown",
   "metadata": {},
   "source": [
    "### Training"
   ]
  },
  {
   "cell_type": "code",
   "execution_count": 9,
   "metadata": {},
   "outputs": [
    {
     "name": "stdout",
     "output_type": "stream",
     "text": [
      "Epoch 1/10\n",
      "7/7 [==============================] - 5s 725ms/step - loss: 1.0556 - accuracy: 0.3977 - val_loss: 0.0000e+00 - val_accuracy: 0.0000e+00\n",
      "Epoch 2/10\n",
      "7/7 [==============================] - 6s 800ms/step - loss: 0.9631 - accuracy: 0.5957 - val_loss: 0.0000e+00 - val_accuracy: 0.0000e+00\n",
      "Epoch 3/10\n",
      "7/7 [==============================] - 5s 752ms/step - loss: 0.9224 - accuracy: 0.5941 - val_loss: 0.0000e+00 - val_accuracy: 0.0000e+00\n",
      "Epoch 4/10\n",
      "7/7 [==============================] - 5s 685ms/step - loss: 0.9029 - accuracy: 0.6219 - val_loss: 0.0000e+00 - val_accuracy: 0.0000e+00\n",
      "Epoch 5/10\n",
      "7/7 [==============================] - 5s 688ms/step - loss: 0.8667 - accuracy: 0.6268 - val_loss: 0.0000e+00 - val_accuracy: 0.0000e+00\n",
      "Epoch 6/10\n",
      "7/7 [==============================] - 5s 703ms/step - loss: 0.8246 - accuracy: 0.6252 - val_loss: 0.0000e+00 - val_accuracy: 0.0000e+00\n",
      "Epoch 7/10\n",
      "7/7 [==============================] - 6s 807ms/step - loss: 0.7919 - accuracy: 0.6252 - val_loss: 0.0000e+00 - val_accuracy: 0.0000e+00\n",
      "Epoch 8/10\n",
      "7/7 [==============================] - 5s 689ms/step - loss: 0.7655 - accuracy: 0.6350 - val_loss: 0.0000e+00 - val_accuracy: 0.0000e+00\n",
      "Epoch 9/10\n",
      "7/7 [==============================] - 4s 596ms/step - loss: 0.7424 - accuracy: 0.6448 - val_loss: 0.0000e+00 - val_accuracy: 0.0000e+00\n",
      "Epoch 10/10\n",
      "7/7 [==============================] - 5s 712ms/step - loss: 0.7312 - accuracy: 0.6498 - val_loss: 0.0000e+00 - val_accuracy: 0.0000e+00\n"
     ]
    },
    {
     "data": {
      "text/plain": [
       "<tensorflow.python.keras.callbacks.History at 0x1883d9747c0>"
      ]
     },
     "execution_count": 9,
     "metadata": {},
     "output_type": "execute_result"
    }
   ],
   "source": [
    "EPOCHS = 10\n",
    "BATCH=100\n",
    "model.fit([samplesIMG,samplesCSV], labels, batch_size=BATCH, epochs=EPOCHS, \n",
    "          validation_data=[[samplesIMG,samplesCSV],labels])"
   ]
  },
  {
   "cell_type": "markdown",
   "metadata": {},
   "source": [
    "### Results"
   ]
  },
  {
   "cell_type": "code",
   "execution_count": 10,
   "metadata": {},
   "outputs": [
    {
     "name": "stdout",
     "output_type": "stream",
     "text": [
      "[[ 98   0  26]\n",
      " [  1   0 180]\n",
      " [  3   0 303]]\n",
      "              precision    recall  f1-score   support\n",
      "\n",
      "           0       0.96      0.79      0.87       124\n",
      "           1       0.00      0.00      0.00       181\n",
      "           2       0.60      0.99      0.74       306\n",
      "\n",
      "    accuracy                           0.66       611\n",
      "   macro avg       0.52      0.59      0.54       611\n",
      "weighted avg       0.49      0.66      0.55       611\n",
      "\n",
      "Accuracy: 0.66\n",
      "Cohen's Kappa 0.37\n"
     ]
    },
    {
     "name": "stderr",
     "output_type": "stream",
     "text": [
      "C:\\programs\\miniconda3\\envs\\deep\\lib\\site-packages\\sklearn\\metrics\\_classification.py:1221: UndefinedMetricWarning: Precision and F-score are ill-defined and being set to 0.0 in labels with no predicted samples. Use `zero_division` parameter to control this behavior.\n",
      "  _warn_prf(average, modifier, msg_start, len(result))\n"
     ]
    }
   ],
   "source": [
    "results = model.predict([samplesIMG,samplesCSV])\n",
    "print(confusion_matrix(labels.argmax(axis=1), results.argmax(axis=1)))\n",
    "print(classification_report(labels.argmax(axis=1), results.argmax(axis=1)))\n",
    "print(\"Accuracy: {:.2f}\".format(accuracy_score(labels.argmax(axis=1), results.argmax(axis=1))))\n",
    "print(\"Cohen's Kappa {:.2f}\".format(cohen_kappa_score(labels.argmax(axis=1), results.argmax(axis=1))))"
   ]
  }
 ],
 "metadata": {
  "kernelspec": {
   "display_name": "Python 3",
   "language": "python",
   "name": "python3"
  },
  "language_info": {
   "codemirror_mode": {
    "name": "ipython",
    "version": 3
   },
   "file_extension": ".py",
   "mimetype": "text/x-python",
   "name": "python",
   "nbconvert_exporter": "python",
   "pygments_lexer": "ipython3",
   "version": "3.8.5"
  }
 },
 "nbformat": 4,
 "nbformat_minor": 4
}
