{
 "cells": [
  {
   "cell_type": "code",
   "execution_count": 1,
   "metadata": {},
   "outputs": [
    {
     "name": "stdout",
     "output_type": "stream",
     "text": [
      ".....................loaded 202  samples\n",
      "classes {'cats', 'dogs'}\n"
     ]
    }
   ],
   "source": [
    "import cv2\n",
    "import os\n",
    "import numpy as np\n",
    "\n",
    "def load_img(indir):\n",
    "    samples = []\n",
    "    labels = []\n",
    "    i = 0\n",
    "    for class_dir in os.listdir(indir):\n",
    "        the_class = class_dir\n",
    "        for file in os.listdir(indir+'/'+class_dir):\n",
    "            image = cv2.imread(\"{}/{}/{}\".format(indir,class_dir,file))\n",
    "            image = cv2.resize(image, (256,256))\n",
    "            image = cv2.cvtColor(image, cv2.COLOR_BGR2RGB)\n",
    "            samples.append(image)\n",
    "            labels.append(the_class)\n",
    "            if i%10==0: print('.',end='')\n",
    "            i = i + 1\n",
    "    samples = np.array(samples)\n",
    "    labels = np.array(labels)\n",
    "    return samples,labels\n",
    "samples, labels = load_img('dataset')\n",
    "print('loaded',len(samples),' samples')\n",
    "print('classes',set(labels))\n",
    "\n"
   ]
  },
  {
   "cell_type": "code",
   "execution_count": 2,
   "metadata": {},
   "outputs": [
    {
     "name": "stdout",
     "output_type": "stream",
     "text": [
      "...................................................................................................3000 images generated to dataset/new_dogs\n",
      "...................................................................................................3000 images generated to dataset/new_cats\n"
     ]
    }
   ],
   "source": [
    "from tensorflow.keras.preprocessing.image import ImageDataGenerator\n",
    "import numpy as np\n",
    "import os\n",
    "\n",
    "cat_images = samples[:101]\n",
    "dog_images = samples[101:]\n",
    "\n",
    "aug = ImageDataGenerator(\n",
    "    rotation_range=20,\n",
    "    zoom_range=0.15,\n",
    "    width_shift_range=0.2,\n",
    "    height_shift_range=0.2,\n",
    "    shear_range=0.15,\n",
    "    horizontal_flip=True,\n",
    "    fill_mode=\"nearest\")\n",
    "\n",
    "\n",
    "def create_images(dir,images,number=500):\n",
    "    os.mkdir(dir)\n",
    "    images = aug.flow(images, batch_size=1, save_to_dir=dir,save_prefix=\"img_\", save_format=\"jpg\")\n",
    "    total = 0\n",
    "    for image in images:\n",
    "         total += 1\n",
    "         if total == number: \n",
    "            print(\"{} images generated to {}\".format(total,dir))\n",
    "            break\n",
    "         if total%(number/100)==0: print('.',end='')   \n",
    "\n",
    "create_images(\"dataset/new_dogs\",dog_images,3000)\n",
    "create_images(\"dataset/new_cats\",cat_images,3000)\n"
   ]
  }
 ],
 "metadata": {
  "kernelspec": {
   "display_name": "Python 3",
   "language": "python",
   "name": "python3"
  },
  "language_info": {
   "codemirror_mode": {
    "name": "ipython",
    "version": 3
   },
   "file_extension": ".py",
   "mimetype": "text/x-python",
   "name": "python",
   "nbconvert_exporter": "python",
   "pygments_lexer": "ipython3",
   "version": "3.8.5"
  }
 },
 "nbformat": 4,
 "nbformat_minor": 4
}
