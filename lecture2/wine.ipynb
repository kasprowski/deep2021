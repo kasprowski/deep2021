{
 "cells": [
  {
   "cell_type": "code",
   "execution_count": 1,
   "metadata": {},
   "outputs": [],
   "source": [
    "import pandas as pd\n",
    "import sklearn\n",
    "import numpy as np\n",
    "import matplotlib.pyplot as plt\n",
    "from sklearn.neighbors import KNeighborsClassifier"
   ]
  },
  {
   "cell_type": "markdown",
   "metadata": {},
   "source": [
    "# Loading data"
   ]
  },
  {
   "cell_type": "code",
   "execution_count": 2,
   "metadata": {},
   "outputs": [
    {
     "name": "stdout",
     "output_type": "stream",
     "text": [
      "Loaded:  4898\n"
     ]
    },
    {
     "data": {
      "image/png": "[encoded data removed]",
      "text/plain": [
       "<Figure size 432x288 with 1 Axes>"
      ]
     },
     "metadata": {
      "needs_background": "light"
     },
     "output_type": "display_data"
    }
   ],
   "source": [
    "data = pd.read_csv('winequality-white.csv',sep=';')\n",
    "print(\"Loaded: \",len(data))\n",
    "\n",
    "samples = data.values[:,0:10]\n",
    "labels = data.values[:,11]\n",
    "\n",
    "\n",
    "plt.hist(labels,bins=10,range=(0,10))\n",
    "plt.show()"
   ]
  },
  {
   "cell_type": "markdown",
   "metadata": {},
   "source": [
    "# The simplest classification"
   ]
  },
  {
   "cell_type": "code",
   "execution_count": 3,
   "metadata": {},
   "outputs": [
    {
     "name": "stdout",
     "output_type": "stream",
     "text": [
      "0  predicted 4.0 real 5.0 wrong\n",
      "1  predicted 6.0 real 5.0 wrong\n",
      "2  predicted 5.0 real 7.0 wrong\n",
      "3  predicted 6.0 real 5.0 wrong\n",
      "4  predicted 7.0 real 7.0 correct\n",
      "5  predicted 5.0 real 6.0 wrong\n",
      "6  predicted 6.0 real 6.0 correct\n",
      "7  predicted 6.0 real 6.0 correct\n",
      "8  predicted 6.0 real 6.0 correct\n",
      "9  predicted 6.0 real 5.0 wrong\n"
     ]
    }
   ],
   "source": [
    "model = KNeighborsClassifier()\n",
    "model.fit(samples, labels)    \n",
    "\n",
    "import random\n",
    "for n in range(10):\n",
    "    i = random.randrange(len(labels))\n",
    "    predicted = model.predict(samples[i].reshape(1,-1))\n",
    "    print(n,\" predicted\",predicted[0], \"real\",labels[i], end=' ')\n",
    "    if(predicted[0]==labels[i]):\n",
    "        print(\"correct\")\n",
    "    else:\n",
    "        print(\"wrong\")"
   ]
  },
  {
   "cell_type": "markdown",
   "metadata": {},
   "source": [
    "# Train-test split"
   ]
  },
  {
   "cell_type": "code",
   "execution_count": 4,
   "metadata": {},
   "outputs": [
    {
     "name": "stdout",
     "output_type": "stream",
     "text": [
      "Correct: 571  of  1225  accuracy= 0.4661224489795918\n"
     ]
    }
   ],
   "source": [
    "# train-test split\n",
    "(trainSamples, testSamples, trainLabels, testLabels) = sklearn.model_selection.train_test_split(samples, labels, stratify=labels,random_state=1)\n",
    "model.fit(trainSamples, trainLabels)    \n",
    "\n",
    "correct = 0;\n",
    "predictedLabels = model.predict(testSamples)\n",
    "for i in range(len(testSamples)):\n",
    "    #print(\"real:\",testLabels[i],\"predicted:\",predictedLabels[i])\n",
    "    if(testLabels[i]==predictedLabels[i]):\n",
    "        correct = correct + 1\n",
    "print(\"Correct:\",correct,\" of \",len(testSamples),\" accuracy=\",correct/len(testSamples))"
   ]
  },
  {
   "cell_type": "markdown",
   "metadata": {},
   "source": [
    "# Measures calculation"
   ]
  },
  {
   "cell_type": "code",
   "execution_count": 5,
   "metadata": {},
   "outputs": [
    {
     "name": "stdout",
     "output_type": "stream",
     "text": [
      "[[  0   2   1   2   0   0   0]\n",
      " [  0   3  19  18   1   0   0]\n",
      " [  0  17 162 154  28   3   0]\n",
      " [  0   9 146 333  54   8   0]\n",
      " [  0   2  52  97  69   0   0]\n",
      " [  0   0  10  23   7   4   0]\n",
      " [  0   0   0   0   1   0   0]]\n",
      "              precision    recall  f1-score   support\n",
      "\n",
      "         3.0       0.00      0.00      0.00         5\n",
      "         4.0       0.09      0.07      0.08        41\n",
      "         5.0       0.42      0.45      0.43       364\n",
      "         6.0       0.53      0.61      0.57       550\n",
      "         7.0       0.43      0.31      0.36       220\n",
      "         8.0       0.27      0.09      0.14        44\n",
      "         9.0       0.00      0.00      0.00         1\n",
      "\n",
      "    accuracy                           0.47      1225\n",
      "   macro avg       0.25      0.22      0.23      1225\n",
      "weighted avg       0.45      0.47      0.45      1225\n",
      "\n",
      "Accuracy: 0.47\n",
      "Cohen's Kappa: 0.18\n"
     ]
    },
    {
     "name": "stderr",
     "output_type": "stream",
     "text": [
      "C:\\programs\\miniconda3\\envs\\deep\\lib\\site-packages\\sklearn\\metrics\\_classification.py:1221: UndefinedMetricWarning: Precision and F-score are ill-defined and being set to 0.0 in labels with no predicted samples. Use `zero_division` parameter to control this behavior.\n",
      "  _warn_prf(average, modifier, msg_start, len(result))\n"
     ]
    }
   ],
   "source": [
    "from sklearn.metrics import classification_report, confusion_matrix, accuracy_score,cohen_kappa_score\n",
    "modelResults = model.predict(testSamples)\n",
    "print(confusion_matrix(testLabels, modelResults))\n",
    "print(classification_report(testLabels, modelResults))\n",
    "accuracy = accuracy_score(testLabels, modelResults) \n",
    "print(\"Accuracy: {:.2f}\".format(accuracy))\n",
    "print(\"Cohen's Kappa: {:.2f}\".format(cohen_kappa_score(testLabels, modelResults)))"
   ]
  },
  {
   "cell_type": "markdown",
   "metadata": {},
   "source": [
    "# Regression errors"
   ]
  },
  {
   "cell_type": "code",
   "execution_count": 6,
   "metadata": {},
   "outputs": [
    {
     "name": "stdout",
     "output_type": "stream",
     "text": [
      "MSE= 0.9942857142857143\n",
      "R2= -0.26923567691718775\n"
     ]
    }
   ],
   "source": [
    "from sklearn.metrics import mean_squared_error, r2_score\n",
    "\n",
    "print('MSE=',mean_squared_error(testLabels, modelResults))\n",
    "print('R2=',r2_score(testLabels, modelResults))"
   ]
  },
  {
   "cell_type": "markdown",
   "metadata": {},
   "source": [
    "# Linear Regression"
   ]
  },
  {
   "cell_type": "code",
   "execution_count": 7,
   "metadata": {},
   "outputs": [
    {
     "name": "stdout",
     "output_type": "stream",
     "text": [
      "MSE= 0.5389488176982694\n",
      "R2= 0.31201559307688687\n",
      "class 3  avg error= 2.331327000870863\n",
      "class 4  avg error= 1.3104823481609797\n",
      "class 5  avg error= 0.6061013102388085\n",
      "class 6  avg error= 0.30801689196805176\n",
      "class 7  avg error= 0.7827210748658701\n",
      "class 8  avg error= 1.707788862218573\n",
      "class 9  avg error= 2.41801071505256\n"
     ]
    },
    {
     "data": {
      "text/plain": [
       "<BarContainer object of 7 artists>"
      ]
     },
     "execution_count": 7,
     "metadata": {},
     "output_type": "execute_result"
    },
    {
     "data": {
      "image/png": "[encoded data removed]",
      "text/plain": [
       "<Figure size 432x288 with 1 Axes>"
      ]
     },
     "metadata": {
      "needs_background": "light"
     },
     "output_type": "display_data"
    }
   ],
   "source": [
    "from sklearn import linear_model\n",
    "\n",
    "model = linear_model.LinearRegression()\n",
    "\n",
    "model.fit(trainSamples, trainLabels)    \n",
    "modelResults = model.predict(testSamples)\n",
    "\n",
    "print('MSE=',mean_squared_error(testLabels, modelResults))\n",
    "print('R2=',r2_score(testLabels, modelResults))\n",
    "errors = np.abs(modelResults-testLabels)\n",
    "\n",
    "e = []\n",
    "for i in range(3,10):\n",
    "    print('class',i,' avg error=',errors[np.where(testLabels==i)].mean())\n",
    "    e.append(errors[np.where(testLabels==i)].mean())\n",
    "plot_labels = np.arange(3,10)\n",
    "import matplotlib.pyplot as plt\n",
    "plt.bar(plot_labels, e, color='blue', linewidth=3)"
   ]
  },
  {
   "cell_type": "markdown",
   "metadata": {},
   "source": [
    "# Weighted results"
   ]
  },
  {
   "cell_type": "code",
   "execution_count": 8,
   "metadata": {},
   "outputs": [
    {
     "name": "stdout",
     "output_type": "stream",
     "text": [
      "Class labels: [3. 4. 5. 6. 7. 8. 9.]\n",
      "Class weights: [ 34.98095238   4.30093677   0.48006796   0.31839459   0.79502165\n",
      "   4.00545256 131.17857143]\n"
     ]
    }
   ],
   "source": [
    "from sklearn.utils import class_weight\n",
    "class_weights = class_weight.compute_class_weight('balanced',classes=np.unique(trainLabels),y=trainLabels)\n",
    "print(\"Class labels:\",np.unique(labels))\n",
    "print(\"Class weights:\",class_weights)"
   ]
  },
  {
   "cell_type": "code",
   "execution_count": 9,
   "metadata": {},
   "outputs": [
    {
     "name": "stdout",
     "output_type": "stream",
     "text": [
      "MSE= 0.8663853355870579\n",
      "myMSE= 0.8663853355870579\n",
      "R2= -0.10596698925211934\n",
      "class 3  avg error= 2.0561890120060298\n",
      "class 4  avg error= 1.0212150028914337\n",
      "class 5  avg error= 0.6585718581620342\n",
      "class 6  avg error= 0.6999902537281619\n",
      "class 7  avg error= 0.7176422266000657\n",
      "class 8  avg error= 1.3913673311963841\n",
      "class 9  avg error= 1.4774363870643583\n"
     ]
    },
    {
     "data": {
      "text/plain": [
       "<BarContainer object of 7 artists>"
      ]
     },
     "execution_count": 9,
     "metadata": {},
     "output_type": "execute_result"
    },
    {
     "data": {
      "image/png": "[encoded data removed]",
      "text/plain": [
       "<Figure size 432x288 with 1 Axes>"
      ]
     },
     "metadata": {
      "needs_background": "light"
     },
     "output_type": "display_data"
    }
   ],
   "source": [
    "weights = np.ones([len(trainLabels)]) # initialize all weights to 1\n",
    "for i, label in enumerate(trainLabels):\n",
    "    weights[i] *= class_weights[int(label-3)] # the first label is 3!\n",
    "\n",
    "model = linear_model.LinearRegression()\n",
    "#model = linear_model.Ridge()  ## another algorithm\n",
    "model.fit(trainSamples, trainLabels\n",
    "         ,sample_weight=weights ## use weights!\n",
    "         )    \n",
    "modelResults = model.predict(testSamples)\n",
    "\n",
    "print('MSE=',mean_squared_error(testLabels, modelResults))\n",
    "print('myMSE=',np.sum((modelResults-testLabels)**2)/len(testLabels))\n",
    "print('R2=',r2_score(testLabels, modelResults))\n",
    "errors = np.abs(modelResults-testLabels)\n",
    "\n",
    "e = []\n",
    "for i in range(3,10):\n",
    "    print('class',i,' avg error=',errors[np.where(testLabels==i)].mean())\n",
    "    e.append(errors[np.where(testLabels==i)].mean())\n",
    "plot_labels = np.arange(3,10)\n",
    "import matplotlib.pyplot as plt\n",
    "plt.bar(plot_labels, e, color='blue', linewidth=3)"
   ]
  },
  {
   "cell_type": "markdown",
   "metadata": {},
   "source": [
    "## Feature selection example"
   ]
  },
  {
   "cell_type": "code",
   "execution_count": 10,
   "metadata": {},
   "outputs": [
    {
     "name": "stdout",
     "output_type": "stream",
     "text": [
      "Samples before (4898, 10)\n",
      "Samples after (4898, 5)\n"
     ]
    }
   ],
   "source": [
    "from sklearn.feature_selection import SelectKBest\n",
    "print('Samples before',samples.shape)\n",
    "newSamples = SelectKBest(sklearn.feature_selection.f_regression,k=5).fit_transform(samples, labels)\n",
    "print('Samples after',newSamples.shape) \n",
    "samples = newSamples\n"
   ]
  }
 ],
 "metadata": {
  "kernelspec": {
   "display_name": "Python 3",
   "language": "python",
   "name": "python3"
  },
  "language_info": {
   "codemirror_mode": {
    "name": "ipython",
    "version": 3
   },
   "file_extension": ".py",
   "mimetype": "text/x-python",
   "name": "python",
   "nbconvert_exporter": "python",
   "pygments_lexer": "ipython3",
   "version": "3.8.5"
  }
 },
 "nbformat": 4,
 "nbformat_minor": 4
}
