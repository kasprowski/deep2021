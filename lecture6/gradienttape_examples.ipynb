{
 "cells": [
  {
   "cell_type": "code",
   "execution_count": 1,
   "metadata": {},
   "outputs": [],
   "source": [
    "import numpy as np\n",
    "import random\n",
    "import tensorflow as tf\n",
    "import matplotlib.pyplot as plt"
   ]
  },
  {
   "cell_type": "code",
   "execution_count": 2,
   "metadata": {},
   "outputs": [
    {
     "name": "stdout",
     "output_type": "stream",
     "text": [
      "tf.Tensor(-2.0, shape=(), dtype=float32)\n"
     ]
    }
   ],
   "source": [
    "x= tf.Variable(-1.0)\n",
    "with tf.GradientTape() as tape:\n",
    "    y = 3*x**2+4*x+4\n",
    "print(tape.gradient(y,x))"
   ]
  },
  {
   "cell_type": "markdown",
   "metadata": {},
   "source": [
    "GradientTape calculates gradients for given Variables using *automatic differentiation*.\\\n",
    "The simplest example:"
   ]
  },
  {
   "cell_type": "code",
   "execution_count": 3,
   "metadata": {},
   "outputs": [
    {
     "name": "stdout",
     "output_type": "stream",
     "text": [
      "tf.Tensor(7.0, shape=(), dtype=float32)\n"
     ]
    }
   ],
   "source": [
    "x = tf.Variable(4.0)\n",
    "with tf.GradientTape() as tape:\n",
    "    y = 7*x+3\n",
    "\n",
    "# gradient g(y/x)\n",
    "print(tape.gradient(y,x))"
   ]
  },
  {
   "cell_type": "markdown",
   "metadata": {},
   "source": [
    "The example for quadratic function"
   ]
  },
  {
   "cell_type": "code",
   "execution_count": 4,
   "metadata": {},
   "outputs": [
    {
     "name": "stdout",
     "output_type": "stream",
     "text": [
      "tf.Tensor(8.0, shape=(), dtype=float32)\n"
     ]
    }
   ],
   "source": [
    "x = tf.Variable(4.0)\n",
    "with tf.GradientTape() as tape:\n",
    "    y = x*x\n",
    "\n",
    "# gradient g(y/x)\n",
    "print(tape.gradient(y,x))"
   ]
  },
  {
   "cell_type": "markdown",
   "metadata": {},
   "source": [
    "The list of values is also a Variable"
   ]
  },
  {
   "cell_type": "code",
   "execution_count": 5,
   "metadata": {},
   "outputs": [
    {
     "name": "stdout",
     "output_type": "stream",
     "text": [
      "x= <tf.Variable 'Variable:0' shape=(4,) dtype=float64, numpy=array([1., 2., 3., 4.])>\n",
      "y= tf.Tensor([ 1.  4.  9. 16.], shape=(4,), dtype=float64)\n",
      "gradient= tf.Tensor([2. 4. 6. 8.], shape=(4,), dtype=float64)\n"
     ]
    }
   ],
   "source": [
    "x = tf.Variable(np.array((1,2,3,4),dtype=float))\n",
    "with tf.GradientTape() as tape:\n",
    "    y = x*x\n",
    "print('x=',x)\n",
    "print('y=',y)\n",
    "gradient = tape.gradient(y,x)\n",
    "print('gradient=',gradient)"
   ]
  },
  {
   "cell_type": "markdown",
   "metadata": {},
   "source": [
    "### Task: find coefficient 'a' in function: y = a\\*x when some pairs (x,y) are given\n",
    "Method using the _Gradient Descent_ algorithm: \n",
    "- initialize a=0\n",
    "- for every iteration:\n",
    "-- calculate loss\n",
    "-- calculate gradient d_loss/d_a\n",
    "-- modify a in the direction opposite to the gradient (a = a - gradient\\*learning_rate)\n",
    "\n",
    "Example using the simplest Gradient Descent algorithm:"
   ]
  },
  {
   "cell_type": "code",
   "execution_count": 6,
   "metadata": {},
   "outputs": [
    {
     "name": "stdout",
     "output_type": "stream",
     "text": [
      "x= [1. 2. 3. 4.]\n",
      "y= [1.3 2.6 3.9 5.2]\n",
      "----step  0 -----\n",
      "loss= [0.29999995 0.5999999  0.9000001  1.1999998 ]\n",
      "gradient= -10.0\n",
      "a= 1.05\n",
      "----step  1 -----\n",
      "loss= [0.25       0.5        0.75000024 1.        ]\n",
      "gradient= -10.0\n",
      "a= 1.0999999\n",
      "----step  2 -----\n",
      "loss= [0.20000005 0.4000001  0.6000004  0.8000002 ]\n",
      "gradient= -10.0\n",
      "a= 1.1499999\n",
      "----step  3 -----\n",
      "loss= [0.1500001  0.3000002  0.45000052 0.6000004 ]\n",
      "gradient= -10.0\n",
      "a= 1.1999998\n",
      "----step  4 -----\n",
      "loss= [0.10000014 0.20000029 0.30000067 0.40000057]\n",
      "gradient= -10.0\n",
      "a= 1.2499998\n",
      "----step  5 -----\n",
      "loss= [0.05000019 0.10000038 0.15000081 0.20000076]\n",
      "gradient= -10.0\n",
      "a= 1.2999997\n",
      "----step  6 -----\n",
      "loss= [2.3841858e-07 4.7683716e-07 9.5367432e-07 9.5367432e-07]\n",
      "gradient= -10.0\n",
      "a= 1.3499997\n",
      "----step  7 -----\n",
      "loss= [0.04999971 0.09999943 0.14999914 0.19999886]\n",
      "gradient= 10.0\n",
      "a= 1.2999997\n",
      "----step  8 -----\n",
      "loss= [2.3841858e-07 4.7683716e-07 9.5367432e-07 9.5367432e-07]\n",
      "gradient= -10.0\n",
      "a= 1.3499997\n",
      "----step  9 -----\n",
      "loss= [0.04999971 0.09999943 0.14999914 0.19999886]\n",
      "gradient= 10.0\n",
      "a= 1.2999997\n",
      "----step  10 -----\n",
      "loss= [2.3841858e-07 4.7683716e-07 9.5367432e-07 9.5367432e-07]\n",
      "gradient= -10.0\n",
      "a= 1.3499997\n",
      "----step  11 -----\n",
      "loss= [0.04999971 0.09999943 0.14999914 0.19999886]\n",
      "gradient= 10.0\n",
      "a= 1.2999997\n",
      "----step  12 -----\n",
      "loss= [2.3841858e-07 4.7683716e-07 9.5367432e-07 9.5367432e-07]\n",
      "gradient= -10.0\n",
      "a= 1.3499997\n",
      "----step  13 -----\n",
      "loss= [0.04999971 0.09999943 0.14999914 0.19999886]\n",
      "gradient= 10.0\n",
      "a= 1.2999997\n",
      "----step  14 -----\n",
      "loss= [2.3841858e-07 4.7683716e-07 9.5367432e-07 9.5367432e-07]\n",
      "gradient= -10.0\n",
      "a= 1.3499997\n",
      "----step  15 -----\n",
      "loss= [0.04999971 0.09999943 0.14999914 0.19999886]\n",
      "gradient= 10.0\n",
      "a= 1.2999997\n",
      "----step  16 -----\n",
      "loss= [2.3841858e-07 4.7683716e-07 9.5367432e-07 9.5367432e-07]\n",
      "gradient= -10.0\n",
      "a= 1.3499997\n",
      "----step  17 -----\n",
      "loss= [0.04999971 0.09999943 0.14999914 0.19999886]\n",
      "gradient= 10.0\n",
      "a= 1.2999997\n",
      "----step  18 -----\n",
      "loss= [2.3841858e-07 4.7683716e-07 9.5367432e-07 9.5367432e-07]\n",
      "gradient= -10.0\n",
      "a= 1.3499997\n",
      "----step  19 -----\n",
      "loss= [0.04999971 0.09999943 0.14999914 0.19999886]\n",
      "gradient= 10.0\n",
      "a= 1.2999997\n",
      "Final a= <tf.Variable 'Variable:0' shape=() dtype=float32, numpy=1.2999997>\n"
     ]
    },
    {
     "data": {
      "text/plain": [
       "[<matplotlib.lines.Line2D at 0x1d2cd4a8e50>]"
      ]
     },
     "execution_count": 6,
     "metadata": {},
     "output_type": "execute_result"
    },
    {
     "data": {
      "image/png": "[encoded data removed]",
      "text/plain": [
       "<Figure size 432x288 with 1 Axes>"
      ]
     },
     "metadata": {
      "needs_background": "light"
     },
     "output_type": "display_data"
    }
   ],
   "source": [
    "X = np.array((1,2,3,4),dtype=float)\n",
    "Y = np.asarray([i*1.3 for i in X]) # y = 1.3 * x\n",
    "print('x=',X)\n",
    "print('y=',Y)\n",
    "step_no=0\n",
    "a_vals_simple = []\n",
    "a = tf.Variable(1.0)\n",
    "for _ in range(20):\n",
    "    print('----step ',step_no,'-----')\n",
    "    step_no+=1\n",
    "    with tf.GradientTape() as tape:\n",
    "        pred_Y = a*X\n",
    "        loss = tf.abs(pred_Y-Y) # loss is the difference between the current model and ground truth\n",
    "    print('loss=',loss.numpy())\n",
    "    # gradient of d_loss/d_a\n",
    "    gradient = tape.gradient(loss,a)\n",
    "    print('gradient=',gradient.numpy())\n",
    "    # substract from 'a' the gradient multiplied by learning_rate=0.005\n",
    "    a.assign_sub(gradient * 0.005)\n",
    "    a_vals_simple.append(a.numpy())\n",
    "    print('a=',a.numpy()) # new (better) value of a\n",
    "print('Final a=',a)\n",
    "plt.plot(a_vals_simple)"
   ]
  },
  {
   "cell_type": "markdown",
   "metadata": {},
   "source": [
    "Problem: the gradient for linear function is always sum(X) (10 or -10) and when the learning rate is not changing it 'jumps' over the correct solution."
   ]
  },
  {
   "cell_type": "markdown",
   "metadata": {},
   "source": [
    "Another attempt - with ADAM optimizer"
   ]
  },
  {
   "cell_type": "code",
   "execution_count": 7,
   "metadata": {},
   "outputs": [
    {
     "name": "stdout",
     "output_type": "stream",
     "text": [
      "x= [1. 2. 3. 4.]\n",
      "y= [1.3 2.6 3.9 5.2]\n",
      "----step  0 -----\n",
      "loss= [0.29999995 0.5999999  0.9000001  1.1999998 ]\n",
      "gradient= -10.0\n",
      "learning_rate= 0.05\n",
      "a= 1.05\n",
      "----step  1 -----\n",
      "loss= [0.25       0.5        0.75000024 1.        ]\n",
      "gradient= -10.0\n",
      "learning_rate= 0.05\n",
      "a= 1.0999998\n",
      "----step  2 -----\n",
      "loss= [0.20000017 0.40000033 0.60000086 0.80000067]\n",
      "gradient= -10.0\n",
      "learning_rate= 0.05\n",
      "a= 1.15\n",
      "----step  3 -----\n",
      "loss= [0.14999998 0.29999995 0.4500003  0.5999999 ]\n",
      "gradient= -10.0\n",
      "learning_rate= 0.05\n",
      "a= 1.1999998\n",
      "----step  4 -----\n",
      "loss= [0.10000014 0.20000029 0.30000067 0.40000057]\n",
      "gradient= -10.0\n",
      "learning_rate= 0.05\n",
      "a= 1.2499996\n",
      "----step  5 -----\n",
      "loss= [0.05000031 0.10000062 0.15000105 0.20000124]\n",
      "gradient= -10.0\n",
      "learning_rate= 0.05\n",
      "a= 1.2999997\n",
      "----step  6 -----\n",
      "loss= [2.3841858e-07 4.7683716e-07 9.5367432e-07 9.5367432e-07]\n",
      "gradient= -10.0\n",
      "learning_rate= 0.05\n",
      "a= 1.3499997\n",
      "----step  7 -----\n",
      "loss= [0.04999971 0.09999943 0.14999914 0.19999886]\n",
      "gradient= 10.0\n",
      "learning_rate= 0.05\n",
      "a= 1.3824414\n",
      "----step  8 -----\n",
      "loss= [0.08244145 0.1648829  0.24732399 0.3297658 ]\n",
      "gradient= 10.0\n",
      "learning_rate= 0.05\n",
      "a= 1.401425\n",
      "----step  9 -----\n",
      "loss= [0.10142505 0.2028501  0.30427504 0.4057002 ]\n",
      "gradient= 10.0\n",
      "learning_rate= 0.05\n",
      "a= 1.4098173\n",
      "----step  10 -----\n",
      "loss= [0.10981739 0.21963477 0.32945204 0.43926954]\n",
      "gradient= 10.0\n",
      "learning_rate= 0.05\n",
      "a= 1.4097\n",
      "----step  11 -----\n",
      "loss= [0.10970008 0.21940017 0.32910013 0.43880033]\n",
      "gradient= 10.0\n",
      "learning_rate= 0.05\n",
      "a= 1.402631\n",
      "----step  12 -----\n",
      "loss= [0.10263109 0.20526218 0.30789328 0.41052437]\n",
      "gradient= 10.0\n",
      "learning_rate= 0.05\n",
      "a= 1.3898058\n",
      "----step  13 -----\n",
      "loss= [0.08980584 0.17961168 0.2694173  0.35922337]\n",
      "gradient= 10.0\n",
      "learning_rate= 0.05\n",
      "a= 1.3721604\n",
      "----step  14 -----\n",
      "loss= [0.07216048 0.14432096 0.21648121 0.28864193]\n",
      "gradient= 10.0\n",
      "learning_rate= 0.05\n",
      "a= 1.3504407\n",
      "----step  15 -----\n",
      "loss= [0.05044079 0.10088158 0.15132189 0.20176315]\n",
      "gradient= 10.0\n",
      "learning_rate= 0.05\n",
      "a= 1.3252498\n",
      "----step  16 -----\n",
      "loss= [0.02524984 0.05049968 0.0757494  0.10099936]\n",
      "gradient= 10.0\n",
      "learning_rate= 0.05\n",
      "a= 1.2970814\n",
      "----step  17 -----\n",
      "loss= [0.0029186  0.0058372  0.00875616 0.0116744 ]\n",
      "gradient= -10.0\n",
      "learning_rate= 0.05\n",
      "a= 1.2781103\n",
      "----step  18 -----\n",
      "loss= [0.02188969 0.04377937 0.0656693  0.08755875]\n",
      "gradient= -10.0\n",
      "learning_rate= 0.05\n",
      "a= 1.2671134\n",
      "----step  19 -----\n",
      "loss= [0.03288651 0.06577301 0.09865975 0.13154602]\n",
      "gradient= -10.0\n",
      "learning_rate= 0.05\n",
      "a= 1.2630606\n",
      "Final a= <tf.Variable 'Variable:0' shape=() dtype=float32, numpy=1.2630606>\n"
     ]
    },
    {
     "data": {
      "text/plain": [
       "[<matplotlib.lines.Line2D at 0x1d2cd80a280>]"
      ]
     },
     "execution_count": 7,
     "metadata": {},
     "output_type": "execute_result"
    },
    {
     "data": {
      "image/png": "[encoded data removed]",
      "text/plain": [
       "<Figure size 432x288 with 1 Axes>"
      ]
     },
     "metadata": {
      "needs_background": "light"
     },
     "output_type": "display_data"
    }
   ],
   "source": [
    "# with optimizer NO DECAY\n",
    "opt = tf.keras.optimizers.Adam(learning_rate=0.05\n",
    "#                               , decay=0.01    ## when decay is used the learning rate decreases!\n",
    "                              )\n",
    "\n",
    "X = np.array((1,2,3,4),dtype=float)\n",
    "Y = np.asarray([i*1.3 for i in X]) # y = 1.3 *  x\n",
    "print('x=',X)\n",
    "print('y=',Y)\n",
    "step_no=0\n",
    "a_vals_adam = []\n",
    "a = tf.Variable(1.0)\n",
    "for _ in range(20):\n",
    "    print('----step ',step_no,'-----')\n",
    "    step_no+=1\n",
    "    with tf.GradientTape() as tape:\n",
    "        pred_Y = a*X\n",
    "        loss = tf.abs(pred_Y-Y) # loss is the difference between the model and ground truth\n",
    "    print('loss=',loss.numpy())\n",
    "    # gradient of d_loss/d_a\n",
    "    gradient = tape.gradient(loss,a)\n",
    "    print('gradient=',gradient.numpy())\n",
    "\n",
    "    # substract from 'a' the gradient multiplied by learning_rate=0.005\n",
    "    ## a.assign_sub(gradient * 0.005)\n",
    "    \n",
    "    opt.apply_gradients(zip([gradient],[a]))\n",
    "    print('learning_rate=',opt._decayed_lr(tf.float32).numpy())\n",
    "    a_vals_adam.append(a.numpy())\n",
    "    print('a=',a.numpy()) # new (better) value of a\n",
    "print('Final a=',a)\n",
    "plt.plot(a_vals_adam)"
   ]
  },
  {
   "cell_type": "code",
   "execution_count": 8,
   "metadata": {},
   "outputs": [
    {
     "name": "stdout",
     "output_type": "stream",
     "text": [
      "x= [1. 2. 3. 4.]\n",
      "y= [1.3 2.6 3.9 5.2]\n",
      "----step  0 -----\n",
      "loss= [0.29999995 0.5999999  0.9000001  1.1999998 ]\n",
      "gradient= -10.0\n",
      "learning_rate= 0.04950495\n",
      "a= 1.05\n",
      "----step  1 -----\n",
      "loss= [0.25       0.5        0.75000024 1.        ]\n",
      "gradient= -10.0\n",
      "learning_rate= 0.04901961\n",
      "a= 1.0995047\n",
      "----step  2 -----\n",
      "loss= [0.20049524 0.4009905  0.60148597 0.801981  ]\n",
      "gradient= -10.0\n",
      "learning_rate= 0.04854369\n",
      "a= 1.1485244\n",
      "----step  3 -----\n",
      "loss= [0.15147555 0.3029511  0.45442677 0.6059022 ]\n",
      "gradient= -10.0\n",
      "learning_rate= 0.048076924\n",
      "a= 1.197068\n",
      "----step  4 -----\n",
      "loss= [0.10293198 0.20586395 0.30879617 0.4117279 ]\n",
      "gradient= -10.0\n",
      "learning_rate= 0.047619052\n",
      "a= 1.2451447\n",
      "----step  5 -----\n",
      "loss= [0.05485523 0.10971045 0.16456604 0.21942091]\n",
      "gradient= -10.0\n",
      "learning_rate= 0.047169816\n",
      "a= 1.2927638\n",
      "----step  6 -----\n",
      "loss= [0.00723612 0.01447225 0.02170849 0.02894449]\n",
      "gradient= -10.0\n",
      "learning_rate= 0.04672897\n",
      "a= 1.3399336\n",
      "----step  7 -----\n",
      "loss= [0.03993368 0.07986736 0.11980104 0.15973473]\n",
      "gradient= 10.0\n",
      "learning_rate= 0.046296295\n",
      "a= 1.370253\n",
      "----step  8 -----\n",
      "loss= [0.07025301 0.14050603 0.21075869 0.28101206]\n",
      "gradient= 10.0\n",
      "learning_rate= 0.04587156\n",
      "a= 1.3878304\n",
      "----step  9 -----\n",
      "loss= [0.08783042 0.17566085 0.26349115 0.3513217 ]\n",
      "gradient= 10.0\n",
      "learning_rate= 0.045454547\n",
      "a= 1.3955297\n",
      "----step  10 -----\n",
      "loss= [0.09552979 0.19105959 0.28658915 0.38211918]\n",
      "gradient= 10.0\n",
      "learning_rate= 0.045045044\n",
      "a= 1.395423\n",
      "----step  11 -----\n",
      "loss= [0.0954231 0.1908462 0.2862692 0.3816924]\n",
      "gradient= 10.0\n",
      "learning_rate= 0.04464286\n",
      "a= 1.3890547\n",
      "----step  12 -----\n",
      "loss= [0.0890547  0.1781094  0.26716375 0.3562188 ]\n",
      "gradient= 10.0\n",
      "learning_rate= 0.044247787\n",
      "a= 1.3776035\n",
      "----step  13 -----\n",
      "loss= [0.07760358 0.15520716 0.2328105  0.3104143 ]\n",
      "gradient= 10.0\n",
      "learning_rate= 0.04385965\n",
      "a= 1.3619882\n",
      "----step  14 -----\n",
      "loss= [0.06198823 0.12397647 0.18596458 0.24795294]\n",
      "gradient= 10.0\n",
      "learning_rate= 0.04347826\n",
      "a= 1.3429358\n",
      "----step  15 -----\n",
      "loss= [0.04293585 0.0858717  0.12880754 0.1717434 ]\n",
      "gradient= 10.0\n",
      "learning_rate= 0.04310345\n",
      "a= 1.3210306\n",
      "----step  16 -----\n",
      "loss= [0.02103066 0.04206133 0.06309175 0.08412266]\n",
      "gradient= 10.0\n",
      "learning_rate= 0.042735044\n",
      "a= 1.2967474\n",
      "----step  17 -----\n",
      "loss= [0.00325251 0.00650501 0.00975776 0.01301003]\n",
      "gradient= -10.0\n",
      "learning_rate= 0.042372882\n",
      "a= 1.2805328\n",
      "----step  18 -----\n",
      "loss= [0.01946712 0.03893423 0.05840158 0.07786846]\n",
      "gradient= -10.0\n",
      "learning_rate= 0.042016804\n",
      "a= 1.2712135\n",
      "----step  19 -----\n",
      "loss= [0.02878642 0.05757284 0.0863595  0.11514568]\n",
      "gradient= -10.0\n",
      "learning_rate= 0.041666664\n",
      "a= 1.2678077\n",
      "Final a= <tf.Variable 'Variable:0' shape=() dtype=float32, numpy=1.2678077>\n"
     ]
    },
    {
     "data": {
      "text/plain": [
       "<matplotlib.legend.Legend at 0x1d2cd8669d0>"
      ]
     },
     "execution_count": 8,
     "metadata": {},
     "output_type": "execute_result"
    },
    {
     "data": {
      "image/png": "[encoded data removed]",
      "text/plain": [
       "<Figure size 432x288 with 1 Axes>"
      ]
     },
     "metadata": {
      "needs_background": "light"
     },
     "output_type": "display_data"
    }
   ],
   "source": [
    "# with optimizer ADN DECAY\n",
    "opt = tf.keras.optimizers.Adam(learning_rate=0.05\n",
    "                               , decay=0.01    ## when decay is used the learning rate decreases!\n",
    "                              )\n",
    "\n",
    "X = np.array((1,2,3,4),dtype=float)\n",
    "Y = np.asarray([i*1.3 for i in X]) # y = 1.3 *  x\n",
    "print('x=',X)\n",
    "print('y=',Y)\n",
    "step_no=0\n",
    "a_vals_adam_dc = []\n",
    "a = tf.Variable(1.0)\n",
    "for _ in range(20):\n",
    "    print('----step ',step_no,'-----')\n",
    "    step_no+=1\n",
    "    with tf.GradientTape() as tape:\n",
    "        pred_Y = a*X\n",
    "        loss = tf.abs(pred_Y-Y) # loss is the difference between the model and ground truth\n",
    "    print('loss=',loss.numpy())\n",
    "    # gradient of d_loss/d_a\n",
    "    gradient = tape.gradient(loss,a)\n",
    "    print('gradient=',gradient.numpy())\n",
    "\n",
    "    # substract from 'a' the gradient multiplied by learning_rate=0.005\n",
    "    ## a.assign_sub(gradient * 0.005)\n",
    "    \n",
    "    opt.apply_gradients(zip([gradient],[a]))\n",
    "    print('learning_rate=',opt._decayed_lr(tf.float32).numpy())\n",
    "    a_vals_adam_dc.append(a.numpy())\n",
    "    print('a=',a.numpy()) # new (better) value of a\n",
    "print('Final a=',a)\n",
    "plt.plot([1.3]*20)\n",
    "plt.plot(a_vals_simple,label='simple GD')\n",
    "plt.plot(a_vals_adam, label='adam')\n",
    "plt.plot(a_vals_adam_dc, label='adam with decay')\n",
    "plt.legend(loc='lower right')"
   ]
  },
  {
   "cell_type": "markdown",
   "metadata": {},
   "source": [
    "### Task: find coefficient 'a' and 'b' in function: y = a\\*x+b when some pairs (x,y) are given\n",
    "A classic linear regression task!"
   ]
  },
  {
   "cell_type": "markdown",
   "metadata": {},
   "source": [
    "_Step()_ function that performs one step of optimization:"
   ]
  },
  {
   "cell_type": "code",
   "execution_count": 9,
   "metadata": {},
   "outputs": [],
   "source": [
    "def step(step_no,real_x, real_y, opt=None, verbose=1, lr=0.01):\n",
    "    with tf.GradientTape() as tape:\n",
    "        # Make prediction\n",
    "        pred_y = a * real_x + b\n",
    "        # Calculate loss\n",
    "        loss = tf.abs(real_y - pred_y)\n",
    "        #loss = (real_y-pred_y)**2\n",
    "    # Calculate gradients\n",
    "    a_gradients, b_gradients = tape.gradient(loss, (a, b))\n",
    "\n",
    "    # Update variables\n",
    "    if not opt==None:\n",
    "        opt.apply_gradients(zip([a_gradients],[a]))\n",
    "        opt.apply_gradients(zip([b_gradients],[b]))\n",
    "    else:\n",
    "        a.assign_sub(a_gradients * lr)\n",
    "        b.assign_sub(b_gradients * lr)\n",
    "        \n",
    "    if verbose:\n",
    "        print(\"=========== STEP \",step_no,' =================')\n",
    "        #print('loss',loss.numpy())\n",
    "        print('a_gradients',a_gradients.numpy())\n",
    "        print('b_gradients',b_gradients.numpy())\n",
    "        print('a',a.numpy())\n",
    "        print('b',b.numpy())\n",
    "    return a.numpy(),b.numpy()    \n"
   ]
  },
  {
   "cell_type": "markdown",
   "metadata": {},
   "source": [
    "An example with direct output"
   ]
  },
  {
   "cell_type": "code",
   "execution_count": 10,
   "metadata": {},
   "outputs": [
    {
     "name": "stdout",
     "output_type": "stream",
     "text": [
      "----------------------------------------------------------------------------------------------------\n",
      "Without optimizer\n",
      "=========== STEP  0  =================\n",
      "a_gradients -8.0\n",
      "b_gradients -1.0\n",
      "a 1.08\n",
      "b 1.01\n",
      "=========== STEP  1  =================\n",
      "a_gradients -4.0\n",
      "b_gradients 1.0\n",
      "a 1.12\n",
      "b 1.0\n",
      "=========== STEP  2  =================\n",
      "a_gradients -4.0\n",
      "b_gradients 1.0\n",
      "a 1.16\n",
      "b 0.99\n",
      "=========== STEP  3  =================\n",
      "a_gradients 2.0\n",
      "b_gradients 3.0\n",
      "a 1.14\n",
      "b 0.96000004\n",
      "=========== STEP  4  =================\n",
      "a_gradients -4.0\n",
      "b_gradients 1.0\n",
      "a 1.18\n",
      "b 0.95000005\n",
      "=========== STEP  5  =================\n",
      "a_gradients 2.0\n",
      "b_gradients 3.0\n",
      "a 1.16\n",
      "b 0.9200001\n",
      "=========== STEP  6  =================\n",
      "a_gradients -1.0\n",
      "b_gradients 2.0\n",
      "a 1.17\n",
      "b 0.9000001\n",
      "=========== STEP  7  =================\n",
      "a_gradients 2.0\n",
      "b_gradients 3.0\n",
      "a 1.15\n",
      "b 0.8700001\n",
      "=========== STEP  8  =================\n",
      "a_gradients -4.0\n",
      "b_gradients 1.0\n",
      "a 1.1899999\n",
      "b 0.86000013\n",
      "=========== STEP  9  =================\n",
      "a_gradients 2.0\n",
      "b_gradients 3.0\n",
      "a 1.17\n",
      "b 0.83000016\n",
      "----------------------------------------------------------------------------------------------------\n",
      "With optimizer\n",
      "=========== STEP  0  =================\n",
      "a_gradients -8.0\n",
      "b_gradients -1.0\n",
      "a 1.05\n",
      "b 1.0368382\n",
      "=========== STEP  1  =================\n",
      "a_gradients -4.0\n",
      "b_gradients 1.0\n",
      "a 1.0892276\n",
      "b 1.034843\n",
      "=========== STEP  2  =================\n",
      "a_gradients -4.0\n",
      "b_gradients 1.0\n",
      "a 1.1269426\n",
      "b 1.0191888\n",
      "=========== STEP  3  =================\n",
      "a_gradients 2.0\n",
      "b_gradients 3.0\n",
      "a 1.152464\n",
      "b 0.9925593\n",
      "=========== STEP  4  =================\n",
      "a_gradients 2.0\n",
      "b_gradients 3.0\n",
      "a 1.1693652\n",
      "b 0.96062446\n",
      "=========== STEP  5  =================\n",
      "a_gradients 2.0\n",
      "b_gradients 3.0\n",
      "a 1.1796018\n",
      "b 0.92526627\n",
      "=========== STEP  6  =================\n",
      "a_gradients 2.0\n",
      "b_gradients 3.0\n",
      "a 1.1844118\n",
      "b 0.8874332\n",
      "=========== STEP  7  =================\n",
      "a_gradients 2.0\n",
      "b_gradients 3.0\n",
      "a 1.1846577\n",
      "b 0.8477013\n",
      "=========== STEP  8  =================\n",
      "a_gradients 2.0\n",
      "b_gradients 3.0\n",
      "a 1.1809834\n",
      "b 0.8064644\n",
      "=========== STEP  9  =================\n",
      "a_gradients -4.0\n",
      "b_gradients 1.0\n",
      "a 1.1851907\n",
      "b 0.7667725\n"
     ]
    }
   ],
   "source": [
    "X = np.asarray([0, 1, 2, 3, 4])\n",
    "Y = np.asarray([i*1.3+0.5 for i in X]) # y = 1.3*x+0.5\n",
    "opt = tf.keras.optimizers.Adam(learning_rate=0.05 , decay=0.01)\n",
    "\n",
    "print(\"-\"*100)\n",
    "print(\"Without optimizer\")\n",
    "# Two trainable variables\n",
    "a = tf.Variable(1.0)\n",
    "b = tf.Variable(1.0)\n",
    "for i in range(10):\n",
    "    step(i,X,Y,verbose=1)\n",
    "print(\"-\"*100)\n",
    "print(\"With optimizer\")\n",
    "# Two trainable variables\n",
    "a = tf.Variable(1.0)\n",
    "b = tf.Variable(1.0)\n",
    "for i in range(10):\n",
    "    step(i,X,Y,opt=opt,verbose=1)"
   ]
  },
  {
   "cell_type": "markdown",
   "metadata": {},
   "source": [
    "An example with visualization"
   ]
  },
  {
   "cell_type": "code",
   "execution_count": 11,
   "metadata": {},
   "outputs": [
    {
     "name": "stdout",
     "output_type": "stream",
     "text": [
      "opt= 1.3146577 0.42031994\n",
      "nopt= 1.1239991 0.98700017\n"
     ]
    },
    {
     "data": {
      "text/plain": [
       "<matplotlib.legend.Legend at 0x1d2cd8163a0>"
      ]
     },
     "execution_count": 11,
     "metadata": {},
     "output_type": "execute_result"
    },
    {
     "data": {
      "image/png": "[encoded data removed]",
      "text/plain": [
       "<Figure size 432x288 with 1 Axes>"
      ]
     },
     "metadata": {
      "needs_background": "light"
     },
     "output_type": "display_data"
    }
   ],
   "source": [
    "EPOCHS=25\n",
    "opt = tf.keras.optimizers.Adam(learning_rate=0.05 , decay=0.01)\n",
    "\n",
    "a = tf.Variable(1.0)\n",
    "b = tf.Variable(1.0)\n",
    "a_opt = []\n",
    "b_opt = []\n",
    "\n",
    "for i in range(EPOCHS):\n",
    "    ax,bx = step(i,X,Y,verbose=0,opt=opt)\n",
    "    a_opt.append(ax)\n",
    "    b_opt.append(bx)\n",
    "plt.scatter(a_opt,b_opt,label='ADAM optimizer')\n",
    "print(\"opt=\",a.numpy(),b.numpy())\n",
    "\n",
    "a = tf.Variable(1.0)\n",
    "b = tf.Variable(1.0)\n",
    "a_nopt = []\n",
    "b_nopt = []\n",
    "\n",
    "for i in range(EPOCHS):\n",
    "    ax,bx = step(i,X,Y,verbose=0,lr=0.001)\n",
    "    a_nopt.append(ax)\n",
    "    b_nopt.append(bx)\n",
    "plt.scatter(a_nopt,b_nopt,label=\"no optimizer\")\n",
    "print(\"nopt=\",a.numpy(),b.numpy())\n",
    "\n",
    "plt.legend(loc='lower left')"
   ]
  },
  {
   "cell_type": "markdown",
   "metadata": {},
   "source": [
    "Real data"
   ]
  },
  {
   "cell_type": "code",
   "execution_count": 12,
   "metadata": {},
   "outputs": [
    {
     "name": "stdout",
     "output_type": "stream",
     "text": [
      "result= 1.4272459 1.8285356\n",
      "error 110.73478\n"
     ]
    },
    {
     "data": {
      "image/png": "[encoded data removed]",
      "text/plain": [
       "<Figure size 432x288 with 1 Axes>"
      ]
     },
     "metadata": {
      "needs_background": "light"
     },
     "output_type": "display_data"
    }
   ],
   "source": [
    "EPOCHS=200\n",
    "opt = tf.keras.optimizers.Adam(learning_rate=0.05 , decay=0.01)\n",
    "\n",
    "data = np.genfromtxt('data.csv', delimiter=',', skip_header=1)\n",
    "X = data[:, 0]\n",
    "Y = data[:, 1]\n",
    "\n",
    "a = tf.Variable(1.0)\n",
    "b = tf.Variable(1.0)\n",
    "a_opt = []\n",
    "b_opt = []\n",
    "\n",
    "for i in range(EPOCHS):\n",
    "    #ax,bx = step(i,X,Y,verbose=0,lr=0.00001)\n",
    "    ax,bx = step(i,X,Y,verbose=0,opt=opt)\n",
    "    a_opt.append(ax)\n",
    "    b_opt.append(bx)\n",
    "plt.scatter(a_opt,b_opt,label='ADAM optimizer')\n",
    "print(\"result=\",a.numpy(),b.numpy())\n",
    "\n",
    "E2 = ((Y-(a*X+b))**2).numpy().mean()\n",
    "print(\"error\",E2)"
   ]
  }
 ],
 "metadata": {
  "kernelspec": {
   "display_name": "Python 3",
   "language": "python",
   "name": "python3"
  },
  "language_info": {
   "codemirror_mode": {
    "name": "ipython",
    "version": 3
   },
   "file_extension": ".py",
   "mimetype": "text/x-python",
   "name": "python",
   "nbconvert_exporter": "python",
   "pygments_lexer": "ipython3",
   "version": "3.8.5"
  }
 },
 "nbformat": 4,
 "nbformat_minor": 4
}
