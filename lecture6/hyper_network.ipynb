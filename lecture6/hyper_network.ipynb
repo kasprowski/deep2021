{
 "cells": [
  {
   "cell_type": "code",
   "execution_count": 1,
   "metadata": {},
   "outputs": [],
   "source": [
    "import numpy as np\n",
    "import pandas as pd\n",
    "import random\n",
    "import tensorflow as tf\n",
    "import matplotlib.pyplot as plt\n",
    "from tensorflow.keras.models import Sequential\n",
    "from tensorflow.keras.layers import Dense\n",
    "from sklearn.metrics import confusion_matrix, accuracy_score\n",
    "from tensorflow.keras.losses import categorical_crossentropy"
   ]
  },
  {
   "cell_type": "code",
   "execution_count": 2,
   "metadata": {},
   "outputs": [
    {
     "name": "stdout",
     "output_type": "stream",
     "text": [
      "Rows: 150\n",
      "Classes: {'Iris-setosa', 'Iris-versicolor', 'Iris-virginica'}\n",
      "(150, 3)\n"
     ]
    },
    {
     "data": {
      "text/plain": [
       "(38, 4)"
      ]
     },
     "execution_count": 2,
     "metadata": {},
     "output_type": "execute_result"
    }
   ],
   "source": [
    "data = pd.read_csv('iris.data')\n",
    "print(\"Rows:\",len(data))\n",
    "print(\"Classes:\",set(data['iris']))\n",
    "samples = data.to_numpy()[:,:4] \n",
    "labels = data.to_numpy()[:,4]\n",
    "samples = samples.astype(float)\n",
    "from sklearn.preprocessing import LabelBinarizer\n",
    "lb = LabelBinarizer()\n",
    "labels = lb.fit_transform(labels)\n",
    "print(labels.shape)\n",
    "import sklearn.model_selection\n",
    "(trainSamples, testSamples, trainLabels, testLabels) = sklearn.model_selection.train_test_split(samples, labels)\n",
    "testSamples.shape"
   ]
  },
  {
   "cell_type": "code",
   "execution_count": 3,
   "metadata": {},
   "outputs": [
    {
     "name": "stdout",
     "output_type": "stream",
     "text": [
      "Model: \"sequential\"\n",
      "_________________________________________________________________\n",
      "Layer (type)                 Output Shape              Param #   \n",
      "=================================================================\n",
      "dense (Dense)                (None, 4)                 20        \n",
      "_________________________________________________________________\n",
      "dense_1 (Dense)              (None, 3)                 15        \n",
      "=================================================================\n",
      "Total params: 35\n",
      "Trainable params: 35\n",
      "Non-trainable params: 0\n",
      "_________________________________________________________________\n"
     ]
    }
   ],
   "source": [
    "def build_model():\n",
    "    model = Sequential()\n",
    "    model.add(Dense(4, input_dim=4, activation='sigmoid'))\n",
    "    model.add(Dense(3, activation='softmax'))\n",
    "    for layer in model.layers:\n",
    "        layer.built = True\n",
    "    return model\n",
    "model = build_model()\n",
    "model.summary()\n"
   ]
  },
  {
   "cell_type": "code",
   "execution_count": 4,
   "metadata": {},
   "outputs": [
    {
     "name": "stdout",
     "output_type": "stream",
     "text": [
      "Model: \"hyper_model\"\n",
      "_________________________________________________________________\n",
      "Layer (type)                 Output Shape              Param #   \n",
      "=================================================================\n",
      "dense_2 (Dense)              (None, 16)                80        \n",
      "_________________________________________________________________\n",
      "dense_3 (Dense)              (None, 35)                595       \n",
      "=================================================================\n",
      "Total params: 675\n",
      "Trainable params: 675\n",
      "Non-trainable params: 0\n",
      "_________________________________________________________________\n"
     ]
    }
   ],
   "source": [
    "def build_hyper_model(): \n",
    "    hyper_model = tf.keras.models.Sequential(name='hyper_model')\n",
    "    hyper_model.add(Dense(16,input_dim=4)) ##,activation='relu') )\n",
    "    hyper_model.add(Dense(35,activation='tanh'))\n",
    "    return hyper_model\n",
    "hyper_model = build_hyper_model()\n",
    "hyper_model.summary()"
   ]
  },
  {
   "cell_type": "code",
   "execution_count": 5,
   "metadata": {},
   "outputs": [
    {
     "name": "stdout",
     "output_type": "stream",
     "text": [
      "0 (4, 4)\n",
      "0 (4,)\n",
      "1 (4, 3)\n",
      "1 (3,)\n"
     ]
    }
   ],
   "source": [
    "for i,layer in enumerate(model.layers):\n",
    "    print(i,layer.kernel.shape)\n",
    "    print(i,layer.bias.shape)"
   ]
  },
  {
   "cell_type": "code",
   "execution_count": 6,
   "metadata": {},
   "outputs": [],
   "source": [
    "def apply_weights(model, weights):\n",
    "    #layer 0\n",
    "    w0 = weights[0:16]\n",
    "    w0 = tf.reshape(w0, [4,4]) \n",
    "    model.layers[0].kernel = w0\n",
    "    b0 = weights[16:20]\n",
    "    model.layers[0].bias = b0\n",
    "    #layer 1\n",
    "    w1 = weights[20:32]\n",
    "    w1 = tf.reshape(w1, [4,3]) \n",
    "    model.layers[1].kernel = w1\n",
    "    b1 = weights[32:]\n",
    "    model.layers[1].bias = b1\n"
   ]
  },
  {
   "cell_type": "code",
   "execution_count": 7,
   "metadata": {},
   "outputs": [],
   "source": [
    "def hyper_step(sample, label):\n",
    "    with tf.GradientTape() as tape:\n",
    "        predicted_weights = hyper_model(sample)\n",
    "        predicted_weights = tf.reshape(predicted_weights,[-1])\n",
    "        apply_weights(model,predicted_weights)\n",
    "        predictions = model(sample)\n",
    "        loss = categorical_crossentropy(label,predictions)\n",
    "    gradients = tape.gradient(loss, hyper_model.trainable_variables)\n",
    "    opt.apply_gradients(zip(gradients, hyper_model.trainable_variables))\n",
    "    return loss"
   ]
  },
  {
   "cell_type": "code",
   "execution_count": 8,
   "metadata": {},
   "outputs": [
    {
     "name": "stdout",
     "output_type": "stream",
     "text": [
      "Start\n",
      ".loss 0.5681379\n",
      "Train accuracy: 0.37\n",
      "..........loss 0.15388747\n",
      "Train accuracy: 0.37\n",
      "..........loss 0.10879514\n",
      "Train accuracy: 0.37\n",
      "..........loss 0.10255317\n",
      "Train accuracy: 0.37\n",
      "..........loss 0.10840687\n",
      "Train accuracy: 0.37\n",
      "..........loss 0.064498335\n",
      "Train accuracy: 0.37\n",
      "..........loss 0.06684572\n",
      "Train accuracy: 0.37\n",
      "..........loss 0.06931856\n",
      "Train accuracy: 0.37\n",
      "..........loss 0.09645128\n",
      "Train accuracy: 0.37\n",
      "..........loss 0.05617383\n",
      "Train accuracy: 0.37\n",
      ".........Done\n"
     ]
    }
   ],
   "source": [
    "from sklearn.metrics import classification_report, confusion_matrix, accuracy_score, cohen_kappa_score\n",
    "opt = tf.keras.optimizers.Adam(0.001)\n",
    "print(\"Start\")\n",
    "hyper_model = build_hyper_model()\n",
    "model = build_model()\n",
    "EPOCHS = 100\n",
    "step_no=0\n",
    "for e in range(EPOCHS):\n",
    "    step_no+=1\n",
    "    num_samples_per_epoch = 200\n",
    "    print(\".\",end='')\n",
    "    losses = []\n",
    "    for i in range(num_samples_per_epoch):\n",
    "        idx = np.random.randint(low=0, high=trainSamples.shape[0], size=1)\n",
    "        tsample = trainSamples[idx]\n",
    "        tlabel = trainLabels[idx]\n",
    "        ##print(tsample.shape)=\n",
    "        loss=hyper_step(tsample,tlabel)\n",
    "        losses.append(loss)\n",
    "        \n",
    "    if e%10==0:\n",
    "        losses = np.array(losses)\n",
    "        print(\"loss\",losses.mean())\n",
    "        trainResults = model.predict(trainSamples)\n",
    "        trainAccuracy = accuracy_score(trainLabels.argmax(axis=1), trainResults.argmax(axis=1))\n",
    "        print(f'Train accuracy: {trainAccuracy:.2f}')\n",
    "\n",
    "print('Done')\n",
    "\n",
    "\n",
    "\n"
   ]
  }
 ],
 "metadata": {
  "kernelspec": {
   "display_name": "Python 3",
   "language": "python",
   "name": "python3"
  },
  "language_info": {
   "codemirror_mode": {
    "name": "ipython",
    "version": 3
   },
   "file_extension": ".py",
   "mimetype": "text/x-python",
   "name": "python",
   "nbconvert_exporter": "python",
   "pygments_lexer": "ipython3",
   "version": "3.8.5"
  }
 },
 "nbformat": 4,
 "nbformat_minor": 4
}
