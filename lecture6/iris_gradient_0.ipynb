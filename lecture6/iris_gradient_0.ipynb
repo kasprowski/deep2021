{
 "cells": [
  {
   "cell_type": "code",
   "execution_count": 1,
   "metadata": {},
   "outputs": [],
   "source": [
    "import numpy as np\n",
    "import pandas as pd\n",
    "import random\n",
    "import tensorflow as tf\n",
    "import matplotlib.pyplot as plt\n",
    "from tensorflow.keras.models import Sequential\n",
    "from tensorflow.keras.layers import Dense\n",
    "from sklearn.metrics import confusion_matrix, accuracy_score\n",
    "from tensorflow.keras.losses import categorical_crossentropy"
   ]
  },
  {
   "cell_type": "code",
   "execution_count": 2,
   "metadata": {},
   "outputs": [
    {
     "name": "stdout",
     "output_type": "stream",
     "text": [
      "Model: \"sequential\"\n",
      "_________________________________________________________________\n",
      "Layer (type)                 Output Shape              Param #   \n",
      "=================================================================\n",
      "dense (Dense)                (None, 4)                 20        \n",
      "_________________________________________________________________\n",
      "dense_1 (Dense)              (None, 3)                 15        \n",
      "=================================================================\n",
      "Total params: 35\n",
      "Trainable params: 35\n",
      "Non-trainable params: 0\n",
      "_________________________________________________________________\n"
     ]
    }
   ],
   "source": [
    "def build_model():\n",
    "    model = Sequential()\n",
    "    model.add(Dense(4, input_dim=4, activation='sigmoid'))\n",
    "    model.add(Dense(3, activation='sigmoid'))\n",
    "    return model\n",
    "model = build_model()\n",
    "model.summary()\n"
   ]
  },
  {
   "cell_type": "code",
   "execution_count": 3,
   "metadata": {},
   "outputs": [
    {
     "name": "stdout",
     "output_type": "stream",
     "text": [
      "Rows: 150\n",
      "Classes: {'Iris-virginica', 'Iris-versicolor', 'Iris-setosa'}\n",
      "(150, 3)\n"
     ]
    },
    {
     "data": {
      "text/plain": [
       "(38, 4)"
      ]
     },
     "execution_count": 3,
     "metadata": {},
     "output_type": "execute_result"
    }
   ],
   "source": [
    "data = pd.read_csv('iris.data')\n",
    "print(\"Rows:\",len(data))\n",
    "print(\"Classes:\",set(data['iris']))\n",
    "samples = data.to_numpy()[:,:4] \n",
    "labels = data.to_numpy()[:,4]\n",
    "samples = samples.astype(float)\n",
    "from sklearn.preprocessing import LabelBinarizer\n",
    "lb = LabelBinarizer()\n",
    "labels = lb.fit_transform(labels)\n",
    "print(labels.shape)\n",
    "import sklearn.model_selection\n",
    "(trainSamples, testSamples, trainLabels, testLabels) = sklearn.model_selection.train_test_split(samples, labels)\n",
    "testSamples.shape"
   ]
  },
  {
   "cell_type": "code",
   "execution_count": 4,
   "metadata": {},
   "outputs": [],
   "source": [
    "def step(tsamples, tlabels, verbose=1):\n",
    "    with tf.GradientTape() as tape:\n",
    "        predictions = model(tsamples)\n",
    "        loss = categorical_crossentropy(tlabels,predictions)\n",
    "    print(\"loss\",loss.numpy().mean()) # mean loss across all samples\n",
    "    # Calculate gradients\n",
    "    gradients = tape.gradient(loss, model.trainable_variables)\n",
    "    if verbose: \n",
    "        print('len',len(gradients))\n",
    "        print('type',type(gradients))\n",
    "        print('type[0]',type(gradients[0]))\n",
    "        for j,g in enumerate(gradients):\n",
    "            print(j,'shape',g.shape)\n",
    "    opt.apply_gradients(zip(gradients, model.trainable_variables))\n"
   ]
  },
  {
   "cell_type": "code",
   "execution_count": 5,
   "metadata": {},
   "outputs": [
    {
     "name": "stdout",
     "output_type": "stream",
     "text": [
      "=========== STEP  0\n",
      "loss 1.2012441\n",
      "[[11  0  0]\n",
      " [17  0  0]\n",
      " [10  0  0]]\n",
      "Accuracy: 0.29\n",
      "=========== STEP  1\n",
      "loss 1.1999258\n",
      "[[11  0  0]\n",
      " [17  0  0]\n",
      " [10  0  0]]\n",
      "Accuracy: 0.29\n",
      "=========== STEP  2\n",
      "loss 1.1986192\n",
      "[[11  0  0]\n",
      " [17  0  0]\n",
      " [10  0  0]]\n",
      "Accuracy: 0.29\n",
      "=========== STEP  3\n",
      "loss 1.1973245\n",
      "[[11  0  0]\n",
      " [17  0  0]\n",
      " [10  0  0]]\n",
      "Accuracy: 0.29\n",
      "=========== STEP  4\n",
      "loss 1.1960415\n",
      "[[11  0  0]\n",
      " [17  0  0]\n",
      " [10  0  0]]\n",
      "Accuracy: 0.29\n",
      "=========== STEP  5\n",
      "loss 1.1947705\n",
      "[[11  0  0]\n",
      " [17  0  0]\n",
      " [10  0  0]]\n",
      "Accuracy: 0.29\n",
      "=========== STEP  6\n",
      "loss 1.1935111\n",
      "[[11  0  0]\n",
      " [17  0  0]\n",
      " [10  0  0]]\n",
      "Accuracy: 0.29\n",
      "=========== STEP  7\n",
      "loss 1.1922632\n",
      "[[11  0  0]\n",
      " [17  0  0]\n",
      " [10  0  0]]\n",
      "Accuracy: 0.29\n",
      "=========== STEP  8\n",
      "loss 1.1910261\n",
      "[[11  0  0]\n",
      " [17  0  0]\n",
      " [10  0  0]]\n",
      "Accuracy: 0.29\n",
      "=========== STEP  9\n",
      "loss 1.1897993\n",
      "[[11  0  0]\n",
      " [17  0  0]\n",
      " [10  0  0]]\n",
      "Accuracy: 0.29\n"
     ]
    }
   ],
   "source": [
    "build_model()\n",
    "\n",
    "opt = tf.keras.optimizers.Adam() # default learning_rate=0.001\n",
    "#opt = tf.keras.optimizers.Adam(learning_rate=0.05, decay=0.01)\n",
    "\n",
    "step_no=0\n",
    "\n",
    "EPOCHS = 10\n",
    "for i in range(EPOCHS):\n",
    "    print('=========== STEP ',step_no)\n",
    "    step_no+=1\n",
    "    step(trainSamples,trainLabels,verbose=0)\n",
    "    testResults = model.predict(testSamples)\n",
    "    print(confusion_matrix(testLabels.argmax(axis=1), testResults.argmax(axis=1)))\n",
    "    accuracy = accuracy_score(testLabels.argmax(axis=1), testResults.argmax(axis=1))\n",
    "    print(f'Accuracy: {accuracy:.2f}')"
   ]
  }
 ],
 "metadata": {
  "kernelspec": {
   "display_name": "Python 3",
   "language": "python",
   "name": "python3"
  },
  "language_info": {
   "codemirror_mode": {
    "name": "ipython",
    "version": 3
   },
   "file_extension": ".py",
   "mimetype": "text/x-python",
   "name": "python",
   "nbconvert_exporter": "python",
   "pygments_lexer": "ipython3",
   "version": "3.8.5"
  }
 },
 "nbformat": 4,
 "nbformat_minor": 4
}
